{
  "cells": [
    {
      "cell_type": "markdown",
      "metadata": {
        "id": "MmxrbdgY5QiY"
      },
      "source": [
        "## *** Reel Insights: A Comprehensive Analysis of Movie Recommendation Systems - EDA***\n",
        "\n",
        "**CAS Applied Data Science Final Project**\n",
        "\n",
        "**By: Avisek Regmi, Avenue de la Foretaille 27b, Chambesy, 1292 CH**\n",
        "\n",
        "![](https://camo.githubusercontent.com/68abad8a66113eb3c56dd584fa9b0b1fe4aab28200b3dfc61d3b00d40dba440c/68747470733a2f2f7261772e67697468756275736572636f6e74656e742e636f6d2f6a616c616a7468616e616b692f4d6f7669655f7265636f6d6d656e646174696f6e5f656e67696e652f6d61737465722f696d672f325f332e6a7067)"
      ]
    },
    {
      "cell_type": "code",
      "source": [
        "from google.colab import drive\n",
        "drive.mount('/content/drive')"
      ],
      "metadata": {
        "id": "Fenfzr7b5YAo"
      },
      "execution_count": null,
      "outputs": []
    },
    {
      "cell_type": "markdown",
      "metadata": {
        "id": "p5DuAL_t5Qid"
      },
      "source": [
        "\n",
        "\n",
        "\n",
        "\n",
        "\n",
        "![](https://media.giphy.com/media/3ohhwDMC187JqL69DG/giphy.gif)"
      ]
    },
    {
      "cell_type": "markdown",
      "metadata": {
        "id": "w1dUrd625Qie"
      },
      "source": [
        "TThe advent of the motion picture camera in the late 18th century heralded the dawn of what would become one of the most captivating forms of entertainment: cinema. From the mesmerizing one-second clips of galloping horses in the 1890s to the groundbreaking addition of sound in the 1920s, the vibrant burst of color in the 1930s, and the immersive experience of mainstream 3D movies in the early 2010s, films have consistently fascinated audiences worldwide.\n",
        "\n",
        "Cinema's beginnings were modest, with simplistic plots, rudimentary direction, and basic acting, largely due to the brevity of early films. However, the industry has since evolved dramatically, nurtured by the talents of visionary directors, ingenious screenwriters, charismatic actors, innovative sound designers, and skilled cinematographers. This evolution has given rise to a myriad of genres, spanning from romance and comedy to science fiction and horror.\n",
        "\n",
        "Like many children of the past century, I was spellbound by movies. This passion turned into a deep-seated desire to unravel the mysteries of the cinematic world. In this notebook, I aim to explore these mysteries through data analysis. We have a dataset comprising approximately 45,000 movies, with metadata sourced from TMDB. This data will help us delve into various questions I've long pondered about the film industry.\n",
        "\n",
        "Moreover, this notebook will guide us through the development of:\n",
        "\n",
        "A **Regressor** capable of predicting a movie's revenue to a reasonable degree.\n",
        "A **Classifier** that can determine whether a movie will be a financial hit or a loss for its producers.\n",
        "\n",
        "\n"
      ]
    },
    {
      "cell_type": "markdown",
      "metadata": {
        "id": "l3xeD-OH5Qif"
      },
      "source": [
        "## **Importing Libraries and Loading Data**"
      ]
    },
    {
      "cell_type": "code",
      "source": [
        "! pip install plotly\n"
      ],
      "metadata": {
        "id": "PkAJtwIOEvos"
      },
      "execution_count": null,
      "outputs": []
    },
    {
      "cell_type": "code",
      "source": [
        "# Installing chart-studio\n",
        "try:\n",
        "    import chart_studio.plotly as py\n",
        "except ModuleNotFoundError:\n",
        "    !pip install chart-studio\n",
        "    import chart_studio.plotly as py\n",
        "\n",
        "# Import statements\n",
        "%matplotlib inline\n",
        "from IPython.display import Image, HTML\n",
        "import json\n",
        "import plotly.offline as py\n",
        "import plotly.graph_objs as go\n",
        "import datetime\n",
        "import ast\n",
        "import pandas as pd\n",
        "import matplotlib.pyplot as plt\n",
        "import seaborn as sns\n",
        "import numpy as np\n",
        "from scipy import stats\n",
        "from sklearn.ensemble import GradientBoostingClassifier, GradientBoostingRegressor\n",
        "from sklearn.dummy import DummyClassifier, DummyRegressor\n",
        "from sklearn.model_selection import train_test_split\n",
        "from xgboost import XGBClassifier, XGBRegressor\n",
        "from wordcloud import WordCloud, STOPWORDS\n",
        "import chart_studio.plotly as py\n",
        "import plotly.graph_objs as go\n",
        "\n",
        "# Plotly credentials setup\n",
        "import chart_studio.tools as tls\n",
        "tls.set_credentials_file(username='rounakbanik', api_key='xTLaHBy9MVv5szF4Pwan')\n",
        "\n",
        "# Seaborn settings\n",
        "sns.set_style('whitegrid')\n",
        "sns.set(font_scale=1.25)\n",
        "\n",
        "# Pandas settings\n",
        "pd.set_option('display.max_colwidth', 50)\n"
      ],
      "metadata": {
        "id": "h3ZRvNVTCjyT"
      },
      "execution_count": null,
      "outputs": []
    },
    {
      "cell_type": "code",
      "source": [
        "# Below is the path with the actual CSV file\n",
        "file_path = '/content/drive/MyDrive/CAS DS Final Project - Movie Recommendation System - Avisek Regmi/movies_metadata.csv'\n",
        "\n",
        "df = pd.read_csv(file_path)\n",
        "df.head().transpose()\n"
      ],
      "metadata": {
        "id": "VERyh4TY_5Xk"
      },
      "execution_count": null,
      "outputs": []
    },
    {
      "cell_type": "markdown",
      "metadata": {
        "id": "mcF1DHkZ5Qii"
      },
      "source": [
        "## **Understanding the Dataset**\n",
        "\n",
        "\n",
        "The dataset I am working with has been sourced via the TMDB API and aligns with the **MovieLens Latest Full Dataset**, which includes 26 million ratings on 45,000 films from 27,000 users. Now, let's delve into the various features available in this extensive dataset.\n",
        "\n"
      ]
    },
    {
      "cell_type": "code",
      "execution_count": null,
      "metadata": {
        "id": "LTfOkj7R5Qij"
      },
      "outputs": [],
      "source": [
        "df.columns"
      ]
    },
    {
      "cell_type": "markdown",
      "metadata": {
        "id": "bROppFtV5Qik"
      },
      "source": [
        "### **Features**\n",
        "\n",
        "* **adult:** Indicates if the movie is X-Rated or Adult.\n",
        "* **belongs_to_collection:** A stringified dictionary that gives information on the movie series the particular film belongs to.\n",
        "* **budget:** The budget of the movie in dollars.\n",
        "* **genres:** A stringified list of dictionaries that list out all the genres associated with the movie.\n",
        "* **homepage:** The Official Homepage of the move.\n",
        "* **id:** The ID of the move.\n",
        "* **imdb_id:** The IMDB ID of the movie.\n",
        "* **original_language:** The language in which the movie was originally shot in.\n",
        "* **original_title:** The original title of the movie.\n",
        "* **overview:** A brief blurb of the movie.\n",
        "* **popularity:** The Popularity Score assigned by TMDB.\n",
        "* **poster_path:** The URL of the poster image.\n",
        "* **production_companies:** A stringified list of production companies involved with the making of the movie.\n",
        "* **production_countries:** A stringified list of countries where the movie was shot/produced in.\n",
        "* **release_date:** Theatrical Release Date of the movie.\n",
        "* **revenue:** The total revenue of the movie in dollars.\n",
        "* **runtime:** The runtime of the movie in minutes.\n",
        "* **spoken_languages:** A stringified list of spoken languages in the film.\n",
        "* **status:** The status of the movie (Released, To Be Released, Announced, etc.)\n",
        "* **tagline:** The tagline of the movie.\n",
        "* **title:** The Official Title of the movie.\n",
        "* **video:** Indicates if there is a video present of the movie with TMDB.\n",
        "* **vote_average:** The average rating of the movie.\n",
        "* **vote_count:** The number of votes by users, as counted by TMDB."
      ]
    },
    {
      "cell_type": "code",
      "execution_count": null,
      "metadata": {
        "id": "6-OlKmu55Qil"
      },
      "outputs": [],
      "source": [
        "df.shape"
      ]
    },
    {
      "cell_type": "code",
      "execution_count": null,
      "metadata": {
        "id": "7r93hHBu5Qil"
      },
      "outputs": [],
      "source": [
        "df.info()"
      ]
    },
    {
      "cell_type": "markdown",
      "metadata": {
        "id": "vCJANmwl5Qim"
      },
      "source": [
        "The dataset encompasses **45,466 movies**, each described by **24 features**. Most of these features are largely complete, with minimal NaN values, except for the **homepage** and **tagline** fields. In the next section, we will focus on refining this dataset, transforming it into a format that's ready for detailed analysis.\n",
        "\n",
        "\n"
      ]
    },
    {
      "cell_type": "markdown",
      "metadata": {
        "id": "lv1UXQPd5Qim"
      },
      "source": [
        "## **Data Wrangling**"
      ]
    },
    {
      "cell_type": "markdown",
      "metadata": {
        "id": "ujL0TC9r5Qim"
      },
      "source": [
        "The initial data was sourced as a JSON file, which we manually converted into a CSV format to facilitate easy loading into a Pandas DataFrame. Consequently, the dataset we now possess is already in a relatively clean state. Nevertheless, we will further investigate our features and apply necessary data wrangling techniques to refine the dataset for optimal analysis.\n",
        "\n",
        "To begin, let's eliminate the features that are not pertinent to our analysis.\n",
        "\n"
      ]
    },
    {
      "cell_type": "code",
      "execution_count": null,
      "metadata": {
        "collapsed": true,
        "id": "LdQt-rw35Qin"
      },
      "outputs": [],
      "source": [
        "df = df.drop(['imdb_id'], axis=1)"
      ]
    },
    {
      "cell_type": "code",
      "execution_count": null,
      "metadata": {
        "id": "08AQ3xcB5Qin"
      },
      "outputs": [],
      "source": [
        "df[df['original_title'] != df['title']][['title', 'original_title']].head()"
      ]
    },
    {
      "cell_type": "markdown",
      "metadata": {
        "id": "x8XR4cHq5Qin"
      },
      "source": [
        "In this analysis, I'll opt for the translated or Anglicized titles over the original titles, which represent the movie's name in its native language. Consequently, we'll exclude the original titles from our dataset. By leveraging the **original_language** feature, we can still discern whether a movie is in a foreign language, ensuring no substantive information is sacrificed in this process.\n",
        "\n"
      ]
    },
    {
      "cell_type": "code",
      "execution_count": null,
      "metadata": {
        "collapsed": true,
        "id": "dKGshAGD5Qin"
      },
      "outputs": [],
      "source": [
        "df = df.drop('original_title', axis=1)"
      ]
    },
    {
      "cell_type": "code",
      "execution_count": null,
      "metadata": {
        "id": "mi0dgHVV5Qio"
      },
      "outputs": [],
      "source": [
        "df[df['revenue'] == 0].shape"
      ]
    },
    {
      "cell_type": "markdown",
      "metadata": {
        "id": "eqwq51Lt5Qio"
      },
      "source": [
        "A notable observation is that the vast majority of movies in our dataset have a recorded revenue of **0**, implying a lack of information regarding their total earnings. Despite this prevalence among the available movies, we'll continue to regard revenue as a pivotal feature as we proceed, particularly focusing on the subset of approximately 7,000 movies with recorded revenue data."
      ]
    },
    {
      "cell_type": "code",
      "execution_count": null,
      "metadata": {
        "collapsed": true,
        "id": "ho8Mt-pL5Qio"
      },
      "outputs": [],
      "source": [
        "df['revenue'] = df['revenue'].replace(0, np.nan)"
      ]
    },
    {
      "cell_type": "markdown",
      "metadata": {
        "id": "Tm6UMusw5Qio"
      },
      "source": [
        "Upon closer examination, it becomes evident that the **budget** feature contains certain irregularities, resulting in Pandas categorizing it as a generic object. To rectify this, we'll transform it into a numeric variable, substituting all non-numeric values with NaN (Not a Number). Furthermore, mirroring this approach with the 'budget' values, we'll replace all instances of zero with NaN, effectively denoting the absence of budgetary information."
      ]
    },
    {
      "cell_type": "code",
      "execution_count": null,
      "metadata": {
        "id": "jPEXnKJS5Qio"
      },
      "outputs": [],
      "source": [
        "df['budget'] = pd.to_numeric(df['budget'], errors='coerce')\n",
        "df['budget'] = df['budget'].replace(0, np.nan)\n",
        "df[df['budget'].isnull()].shape"
      ]
    },
    {
      "cell_type": "markdown",
      "metadata": {
        "id": "f1Hg6k3m5Qip"
      },
      "source": [
        "As we progress in addressing specific questions, it is essential to develop several features tailored to each query. At this point, I will introduce two crucial features:\n",
        "\n",
        "**Year:** The year the movie was released.\n",
        "**Return:** The ratio of revenue to budget.\n",
        "\n",
        "The return feature is particularly insightful as it provides a clearer understanding of a movie's financial success. For example, without this feature, our data cannot accurately compare the performance of a USD 200 million budget movie that earned USD 100 million to a USD 50,000 budget movie that grossed USD 200,000. The return ratio allows us to capture this critical information.\n",
        "\n",
        "A return value greater than 1 indicates a profit, while a return value less than 1 signifies a loss.\n",
        "\n"
      ]
    },
    {
      "cell_type": "code",
      "execution_count": null,
      "metadata": {
        "id": "7znR8Yhj5Qip"
      },
      "outputs": [],
      "source": [
        "df['return'] = df['revenue'] / df['budget']\n",
        "df[df['return'].isnull()].shape"
      ]
    },
    {
      "cell_type": "markdown",
      "metadata": {
        "id": "zA7wYIQ75Qip"
      },
      "source": [
        "In our repository, we possess data on nearly **5,000 movies**, comprising of **10% of the entire dataset**. While this proportion may appear modest, it furnishes an ample foundation for conducting profoundly insightful analyses and uncovering captivating revelations within the cinematic realm.\n"
      ]
    },
    {
      "cell_type": "code",
      "execution_count": null,
      "metadata": {
        "collapsed": true,
        "id": "PZXaNgm75Qip"
      },
      "outputs": [],
      "source": [
        "df['year'] = pd.to_datetime(df['release_date'], errors='coerce').apply(lambda x: str(x).split('-')[0] if x != np.nan else np.nan)"
      ]
    },
    {
      "cell_type": "code",
      "execution_count": null,
      "metadata": {
        "id": "u8r7rbui5Qip"
      },
      "outputs": [],
      "source": [
        "df['adult'].value_counts()"
      ]
    },
    {
      "cell_type": "markdown",
      "metadata": {
        "id": "wAukqm3w5Qiq"
      },
      "source": [
        "\n",
        "Given that there are virtually no **0** adult movies in this dataset, the **adult** feature holds little relevance and can be safely omitted.\n",
        "\n"
      ]
    },
    {
      "cell_type": "code",
      "execution_count": null,
      "metadata": {
        "collapsed": true,
        "id": "NGcp3XTS5Qiq"
      },
      "outputs": [],
      "source": [
        "df = df.drop('adult', axis=1)"
      ]
    },
    {
      "cell_type": "code",
      "execution_count": null,
      "metadata": {
        "collapsed": true,
        "id": "NhvN6TKU5Qiq"
      },
      "outputs": [],
      "source": [
        "base_poster_url = 'http://image.tmdb.org/t/p/w185/'\n",
        "df['poster_path'] = \"<img src='\" + base_poster_url + df['poster_path'] + \"' style='height:100px;'>\""
      ]
    },
    {
      "cell_type": "markdown",
      "metadata": {
        "id": "d-NbUZQF5Qir"
      },
      "source": [
        "## **Exploratory Data Analysis**\n",
        "### **Title and Overview Wordclouds**\n",
        "\n",
        "Do certain words appear more frequently in movie titles and blurbs? I believe there are specific terms deemed more impactful and worthy of a title. Let's investigate and uncover the truth!"
      ]
    },
    {
      "cell_type": "code",
      "execution_count": null,
      "metadata": {
        "collapsed": true,
        "id": "HJHwCcVj5Qir"
      },
      "outputs": [],
      "source": [
        "df['title'] = df['title'].astype('str')\n",
        "df['overview'] = df['overview'].astype('str')"
      ]
    },
    {
      "cell_type": "code",
      "execution_count": null,
      "metadata": {
        "collapsed": true,
        "id": "cV50CBHa5Qis"
      },
      "outputs": [],
      "source": [
        "title_corpus = ' '.join(df['title'])\n",
        "overview_corpus = ' '.join(df['overview'])"
      ]
    },
    {
      "cell_type": "code",
      "source": [
        "title_wordcloud = WordCloud(stopwords=STOPWORDS, background_color='lightyellow', height=2000, width=4000).generate(title_corpus)\n",
        "plt.figure(figsize=(16,8))\n",
        "plt.imshow(title_wordcloud)\n",
        "plt.axis('off')\n",
        "plt.show()\n"
      ],
      "metadata": {
        "id": "SY3OgXDajFi_"
      },
      "execution_count": null,
      "outputs": []
    },
    {
      "cell_type": "markdown",
      "metadata": {
        "id": "x7Xy_NUc5Qis"
      },
      "source": [
        "The word **Love** is the most frequently used term in movie titles, followed closely by **Girl,** **Day**, and **Man** This prevalence underscores the pervasive theme of romance in films quite effectively.\n",
        "\n"
      ]
    },
    {
      "cell_type": "code",
      "source": [
        "import matplotlib.pyplot as plt\n",
        "from wordcloud import WordCloud\n",
        "\n",
        "overview_wordcloud = WordCloud(stopwords=STOPWORDS, background_color='white', height=2000, width=4000, colormap='ocean').generate(overview_corpus)\n",
        "plt.figure(figsize=(16, 8))\n",
        "plt.imshow(overview_wordcloud, interpolation='bilinear')\n",
        "plt.axis('off')\n",
        "plt.show()\n",
        "\n"
      ],
      "metadata": {
        "id": "2bGXtKUtBbgk"
      },
      "execution_count": null,
      "outputs": []
    },
    {
      "cell_type": "markdown",
      "metadata": {
        "collapsed": true,
        "id": "_tTmgOeL5Qis"
      },
      "source": [
        "The word **Life** appears most frequently in movie titles, while **One** and **Find** are prevalent in movie blurbs. Alongside **Love**, **Man** and **Girl**, these terms in our word clouds provide a clear picture of the most common themes in films.\n"
      ]
    },
    {
      "cell_type": "markdown",
      "metadata": {
        "collapsed": true,
        "id": "FhZ9M77N5Qit"
      },
      "source": [
        "### **Production Countries**\n",
        "\n",
        "The Full MovieLens Dataset predominantly features movies in the English language, with over 31,000 titles. However, these films are often shot in diverse locations worldwide. It would be fascinating to explore which countries are the top filming destinations, particularly for filmmakers from the United States and the United Kingdom.\n",
        "\n"
      ]
    },
    {
      "cell_type": "code",
      "source": [
        "import pandas as pd\n",
        "import ast\n",
        "\n",
        "def safe_literal_eval(x):\n",
        "    try:\n",
        "        return ast.literal_eval(x)\n",
        "    except (SyntaxError, ValueError):\n",
        "        return None  # or any default value you prefer\n",
        "\n"
      ],
      "metadata": {
        "id": "smKY6Fx4NSQx"
      },
      "execution_count": null,
      "outputs": []
    },
    {
      "cell_type": "code",
      "source": [
        "# Ensure only valid strings are passed to ast.literal_eval\n",
        "df['production_countries'] = df['production_countries'].fillna('[]').apply(safe_literal_eval)\n",
        "\n",
        "# Apply lambda function to extract country names\n",
        "df['production_countries'] = df['production_countries'].apply(lambda x: [i['name'] for i in x] if isinstance(x, list) else [])"
      ],
      "metadata": {
        "id": "x_-M5EczDiS3"
      },
      "execution_count": null,
      "outputs": []
    },
    {
      "cell_type": "code",
      "source": [
        "# Transform the DataFrame as required\n",
        "s = df.apply(lambda x: pd.Series(x['production_countries']), axis=1).stack().reset_index(level=1, drop=True)\n",
        "s.name = 'countries'"
      ],
      "metadata": {
        "id": "ofDVcZVZC1UO"
      },
      "execution_count": null,
      "outputs": []
    },
    {
      "cell_type": "code",
      "source": [
        "con_df = df.drop('production_countries', axis=1).join(s)\n",
        "con_df = pd.DataFrame(con_df['countries'].value_counts())\n",
        "con_df['country'] = con_df.index\n",
        "con_df.columns = ['num_movies', 'country']\n",
        "\n",
        "# Reset index without attempting to drop a non-existent column\n",
        "con_df = con_df.reset_index(drop=True)\n",
        "con_df.head(10)"
      ],
      "metadata": {
        "id": "cF1tPm_IC5_l"
      },
      "execution_count": null,
      "outputs": []
    },
    {
      "cell_type": "code",
      "source": [
        "# Filter out 'United States of America'\n",
        "con_df = con_df[con_df['country'] != 'United States of America']\n"
      ],
      "metadata": {
        "id": "tdM6FVTuDEKR"
      },
      "execution_count": null,
      "outputs": []
    },
    {
      "cell_type": "markdown",
      "metadata": {
        "id": "x1Y3wyDf5Qi1"
      },
      "source": [
        "Unsurprisingly, the **United States**  tops the list as the most popular filming destination, reflecting the dominance of English-language movies in our dataset. **Europe** also stands out, with the UK, France, Germany, and Italy ranking among the top five. In Asia, **Japan**and **India**  emerge as the leading countries for movie production."
      ]
    },
    {
      "cell_type": "markdown",
      "metadata": {
        "id": "VYP8l6UH5Qi1"
      },
      "source": [
        "### **Franchise Movies**\n",
        "\n",
        "Now, let's turn our attention to franchise movies. I'm eager to uncover the longest-running and most successful franchises, among other intriguing details. Let's dive into the data and see what we can discover!"
      ]
    },
    {
      "cell_type": "code",
      "execution_count": null,
      "metadata": {
        "id": "8STZaAQT5Qi1"
      },
      "outputs": [],
      "source": [
        "df_fran = df[df['belongs_to_collection'].notnull()]\n",
        "df_fran['belongs_to_collection'] = df_fran['belongs_to_collection'].apply(ast.literal_eval).apply(lambda x: x['name'] if isinstance(x, dict) else np.nan)\n",
        "df_fran = df_fran[df_fran['belongs_to_collection'].notnull()]"
      ]
    },
    {
      "cell_type": "code",
      "execution_count": null,
      "metadata": {
        "collapsed": true,
        "id": "GQaFJros5Qi2"
      },
      "outputs": [],
      "source": [
        "fran_pivot = df_fran.pivot_table(index='belongs_to_collection', values='revenue', aggfunc={'revenue': ['mean', 'sum', 'count']}).reset_index()"
      ]
    },
    {
      "cell_type": "markdown",
      "metadata": {
        "id": "GVA5dVOs5Qi2"
      },
      "source": [
        "#### **Highest Grossing Movie Franchises**"
      ]
    },
    {
      "cell_type": "code",
      "execution_count": null,
      "metadata": {
        "id": "crzFK5n05Qi2"
      },
      "outputs": [],
      "source": [
        "fran_pivot.sort_values('sum', ascending=False).head(10)"
      ]
    },
    {
      "cell_type": "markdown",
      "metadata": {
        "id": "lGD2RRJn5Qi3"
      },
      "source": [
        "The **Harry Potter** franchise tops the list as the most successful movie series, earning over USD7.707 billion from its 8 films. Close behind, the **Star Wars** franchise has garnered USD7.403 billion from its 8 movies. The **James Bond** series ranks third, but with a significantly larger number of films, its average gross per movie is considerably lower."
      ]
    },
    {
      "cell_type": "markdown",
      "metadata": {
        "id": "7VtGpcth5Qi3"
      },
      "source": [
        "#### **Most Successful Movie Franchises (by Average Gross)**\n",
        "\n",
        "\n",
        "I will utilize the average gross per movie as a metric to assess the success of a movie franchise. However, it's important to note that this metric may not be entirely reliable, as the revenue data in our dataset hasn't been adjusted for inflation. Consequently, revenue statistics are likely to heavily favor franchises from more recent times."
      ]
    },
    {
      "cell_type": "code",
      "execution_count": null,
      "metadata": {
        "id": "ItaHJUwq5Qi3"
      },
      "outputs": [],
      "source": [
        "fran_pivot.sort_values('mean', ascending=False).head(10)"
      ]
    },
    {
      "cell_type": "markdown",
      "metadata": {
        "id": "O9cM3Xt35Qi3"
      },
      "source": [
        "The **Avatar**  Collection, though currently limited to a single installment, stands as a beacon of unparalleled success in the realm of cinema. Its sole film has shattered records, amassing a staggering revenue of nearly 3 billion dollars, a feat unmatched by any other single movie. While the **Harry Potter** franchise boasts a greater number of films, with at least five entries to its name, it is the singular triumph of Avatar that solidifies its status as the reigning titan of box office achievement."
      ]
    },
    {
      "cell_type": "markdown",
      "metadata": {
        "id": "o6vQY9wJ5Qi4"
      },
      "source": [
        "#### **Longest Running Franchises**\n",
        "\n",
        "\n",
        "In this segment, we turn our attention to the enduring franchises that have weathered the passage of time, continually delivering a multitude of cinematic experiences under a singular banner. This metric, unaffected by inflation, serves as a robust indicator of a franchise's longevity and creative prowess. However, it's crucial to note that the quantity of films within a franchise doesn't inherently correlate with its success. Certain franchises, like Harry Potter, possess a meticulously crafted storyline with a finite arc, rendering further film productions unnecessary despite their monumental success."
      ]
    },
    {
      "cell_type": "code",
      "execution_count": null,
      "metadata": {
        "id": "lVDmYUFU5Qi4"
      },
      "outputs": [],
      "source": [
        "fran_pivot.sort_values('count', ascending=False).head(10)"
      ]
    },
    {
      "cell_type": "markdown",
      "metadata": {
        "id": "Xq5cCyNP5Qi4"
      },
      "source": [
        "The **James Bond** film series reigns supreme as the epitome of longevity in the realm of cinema, boasting an impressive catalog of over 26 thrilling adventures under its iconic banner. Following in its wake, but at a considerable distance, are franchises like **Friday the 13th** and **Pokemon**, occupying the second and third spots with 12 and 11 films respectively. This illustrious lineup underscores not only the enduring popularity of these franchises but also their ability to captivate audiences across generations with their distinct narratives and characters."
      ]
    },
    {
      "cell_type": "markdown",
      "metadata": {
        "id": "J6s2zyj45Qi4"
      },
      "source": [
        "### **Production Companies**"
      ]
    },
    {
      "cell_type": "code",
      "execution_count": null,
      "metadata": {
        "collapsed": true,
        "id": "bQGGKpPK5Qi5"
      },
      "outputs": [],
      "source": [
        "df['production_companies'] = df['production_companies'].fillna('[]').apply(ast.literal_eval)\n",
        "df['production_companies'] = df['production_companies'].apply(lambda x: [i['name'] for i in x] if isinstance(x, list) else [])"
      ]
    },
    {
      "cell_type": "code",
      "execution_count": null,
      "metadata": {
        "collapsed": true,
        "id": "eZ3Y4imw5Qi5"
      },
      "outputs": [],
      "source": [
        "s = df.apply(lambda x: pd.Series(x['production_companies']),axis=1).stack().reset_index(level=1, drop=True)\n",
        "s.name = 'companies'"
      ]
    },
    {
      "cell_type": "code",
      "execution_count": null,
      "metadata": {
        "collapsed": true,
        "id": "-EHZUT0N5Qi5"
      },
      "outputs": [],
      "source": [
        "com_df = df.drop('production_companies', axis=1).join(s)"
      ]
    },
    {
      "cell_type": "code",
      "execution_count": null,
      "metadata": {
        "collapsed": true,
        "id": "OqBD-rKQ5Qi5"
      },
      "outputs": [],
      "source": [
        "com_sum = pd.DataFrame(com_df.groupby('companies')['revenue'].sum().sort_values(ascending=False))\n",
        "com_sum.columns = ['Total']\n",
        "com_mean = pd.DataFrame(com_df.groupby('companies')['revenue'].mean().sort_values(ascending=False))\n",
        "com_mean.columns = ['Average']\n",
        "com_count = pd.DataFrame(com_df.groupby('companies')['revenue'].count().sort_values(ascending=False))\n",
        "com_count.columns = ['Number']\n",
        "\n",
        "com_pivot = pd.concat((com_sum, com_mean, com_count), axis=1)"
      ]
    },
    {
      "cell_type": "markdown",
      "metadata": {
        "id": "63ZrgoqM5Qi5"
      },
      "source": [
        "#### **Highest Earning Production Companies**\n",
        "\n",
        "Let's delve into the realm of cinema and uncover the top-grossing production companies, those titans of the silver screen whose creations have not only captivated audiences but also reaped substantial financial rewards in the dynamic world of filmmaking."
      ]
    },
    {
      "cell_type": "code",
      "source": [
        "com_pivot.sort_values('Total', ascending=False).head(10)"
      ],
      "metadata": {
        "id": "Pg1ZZzsJoBT2"
      },
      "execution_count": null,
      "outputs": []
    },
    {
      "cell_type": "markdown",
      "metadata": {
        "id": "m-XSPShD5Qi6"
      },
      "source": [
        "**Warner Bros** stands as the undisputed heavyweight champion in the realm of film production, boasting an unparalleled record of success with an astronomical USD 63.5 billion in earnings derived from nearly 500 cinematic creations. Trailing closely behind, **Universal Pictures** and **Paramaount Pictures** claim their positions as formidable contenders, amassing USD55 billion and USD 48 billion in revenue respectively, solidifying their status among the elite echelons of the industry.\n"
      ]
    },
    {
      "cell_type": "markdown",
      "metadata": {
        "id": "t9Q0RQ3Q5Qi6"
      },
      "source": [
        "#### **Most Succesful Production Companies**\n",
        "\n",
        "Let's embark on a quest to uncover the true champions of cinematic success by examining which production companies consistently deliver the most successful movies, measured by their average performance. To ensure statistical significance, I narrow our focus to companies that have produced a minimum of 15 films."
      ]
    },
    {
      "cell_type": "code",
      "execution_count": null,
      "metadata": {
        "id": "28GArkhn5Qi6"
      },
      "outputs": [],
      "source": [
        "com_pivot[com_pivot['Number'] >= 15].sort_values('Average', ascending=False).head(10)"
      ]
    },
    {
      "cell_type": "markdown",
      "metadata": {
        "id": "-F_iLDAt5Qi6"
      },
      "source": [
        "\n",
        "**Pixar Animation Studios** emerges as the undisputed leader in crafting consistently successful cinematic masterpieces, a feat undoubtedly owed to their remarkable portfolio spanning several decades. With iconic gems like \"Up,\" \"Finding Nemo,\" \"Inside Out,\" \"Wall-E,\" \"Ratatouille,\" and the beloved \"Toy Story\" and \"Cars\" franchises, Pixar has etched its name in cinematic history. Following closely behind is **Marvel Studios** , renowned for its superhero epics like \"Iron Man\" and \"The Avengers,\" boasting an impressive average gross of $615 million per film, securing its place as a formidable force in the industry."
      ]
    },
    {
      "cell_type": "markdown",
      "metadata": {
        "id": "ECZZp_dt5Qi7"
      },
      "source": [
        "### **Original Language**\n",
        "\n",
        "In this segment, we'll delve into the linguistic landscape of the movies within our dataset. Having already established that English dominates as the primary language across productions from various countries, it's now intriguing to explore the spectrum of other major languages present."
      ]
    },
    {
      "cell_type": "code",
      "execution_count": null,
      "metadata": {
        "id": "k3J_7b945Qi7"
      },
      "outputs": [],
      "source": [
        "df['original_language'].drop_duplicates().shape[0]"
      ]
    },
    {
      "cell_type": "code",
      "execution_count": null,
      "metadata": {
        "id": "gleUr_Tl5Qi7"
      },
      "outputs": [],
      "source": [
        "lang_df = pd.DataFrame(df['original_language'].value_counts())\n",
        "lang_df['language'] = lang_df.index\n",
        "lang_df.columns = ['number', 'language']\n",
        "lang_df.head()"
      ]
    },
    {
      "cell_type": "markdown",
      "metadata": {
        "id": "RfbE0aQ75Qi8"
      },
      "source": [
        "In my  dataset, we've captured the rich tapestry of human expression with over 93 distinct languages making their presence known. Unsurprisingly, the dominant force within this linguistic mosaic is English, reigning supreme with its ubiquitous presence in films. However, beyond the realm of English, we encounter a fascinating array of cinematic languages. French and Italian emerge as notable contenders, albeit trailing far behind in terms of representation. To visually encapsulate this linguistic diversity, we propose creating a bar plot highlighting the prevalence of these languages, offering a compelling snapshot of global cinematic culture beyond the English-speaking sphere."
      ]
    },
    {
      "cell_type": "code",
      "source": [
        "import matplotlib.pyplot as plt\n",
        "import seaborn as sns\n",
        "\n",
        "plt.figure(figsize=(12, 5))\n",
        "sns.barplot(x='language', y='number', data=lang_df.iloc[1:11], palette='Set2')\n",
        "plt.show()\n"
      ],
      "metadata": {
        "id": "r4VT9OtX_0mY"
      },
      "execution_count": null,
      "outputs": []
    },
    {
      "cell_type": "markdown",
      "metadata": {
        "id": "VO2fvE0i5Qi8"
      },
      "source": [
        "\n",
        "As we delve deeper into our dataset, it becomes evident that after English, **French** and **Italian** stand out as prominent languages. Within the realm of Asian languages, **Japanese** and **Hindi**emerge as frontrunners, embodying a significant presence. This linguistic landscape not only reflects the global reach of cinema but also underscores the rich diversity of cultural narratives being shared on screen."
      ]
    },
    {
      "cell_type": "markdown",
      "metadata": {
        "id": "JnxNwNeP5Qi9"
      },
      "source": [
        "### **Popularity, Vote Average and Vote Count**\n",
        "\n",
        "In the upcoming segment, my focus will shifts towards the metrics generously provided by TMDB users. My aim is to embark on a journey of comprehension, delving into the intricacies of popularity, vote average, and vote count features. Through meticulous analysis, we endeavor to unveil any underlying relationships they may share, while also exploring correlations with other numerical attributes such as budget and revenue. By navigating through these metrics, we aspire to glean valuable insights that illuminate the dynamics of audience engagement and the financial landscapes of cinematic endeavors."
      ]
    },
    {
      "cell_type": "code",
      "execution_count": null,
      "metadata": {
        "collapsed": true,
        "id": "H66TrD9h5Qi9"
      },
      "outputs": [],
      "source": [
        "def clean_numeric(x):\n",
        "    try:\n",
        "        return float(x)\n",
        "    except:\n",
        "        return np.nan"
      ]
    },
    {
      "cell_type": "code",
      "execution_count": null,
      "metadata": {
        "collapsed": true,
        "id": "MYmTptSJ5Qi9"
      },
      "outputs": [],
      "source": [
        "df['popularity'] = df['popularity'].apply(clean_numeric).astype('float')\n",
        "df['vote_count'] = df['vote_count'].apply(clean_numeric).astype('float')\n",
        "df['vote_average'] = df['vote_average'].apply(clean_numeric).astype('float')"
      ]
    },
    {
      "cell_type": "markdown",
      "metadata": {
        "id": "USVGfSYn5Qi9"
      },
      "source": [
        "Let's delve into the summary statistics and meticulously explore the distribution of each individual feature. By dissecting each aspect separately, we gain a comprehensive understanding that illuminates the nuances and intricacies within the dataset."
      ]
    },
    {
      "cell_type": "code",
      "execution_count": null,
      "metadata": {
        "scrolled": true,
        "id": "X98RnqFC5Qi9"
      },
      "outputs": [],
      "source": [
        "df['popularity'].describe()"
      ]
    },
    {
      "cell_type": "code",
      "source": [
        "import seaborn as sns\n",
        "import matplotlib.pyplot as plt\n",
        "\n",
        "plt.figure(figsize=(10, 6))\n",
        "sns.set(style=\"whitegrid\")\n",
        "sns.distplot(df['popularity'].fillna(df['popularity'].median()), color='purple', kde_kws={'shade': True}, hist=False)\n",
        "plt.xlabel('Popularity')\n",
        "plt.ylabel('Density')\n",
        "plt.title('Density Plot of Popularity')\n",
        "plt.show()\n"
      ],
      "metadata": {
        "id": "V4CcrOchCoG3"
      },
      "execution_count": null,
      "outputs": []
    },
    {
      "cell_type": "code",
      "source": [
        "import matplotlib.pyplot as plt\n",
        "\n",
        "plt.figure(figsize=(10, 6))\n",
        "df['popularity'].plot(logy=True, kind='hist', color='red')\n",
        "plt.xlabel('Popularity')\n",
        "plt.ylabel('Frequency (log scale)')\n",
        "plt.title('Histogram of Popularity (log scale)')\n",
        "plt.grid(True)\n",
        "plt.show()\n"
      ],
      "metadata": {
        "id": "vXvtA3PEC42H"
      },
      "execution_count": null,
      "outputs": []
    },
    {
      "cell_type": "markdown",
      "metadata": {
        "id": "64lBurvg5Qi-"
      },
      "source": [
        "The Popularity score presents a striking disparity, exhibiting significant skewness with a modest mean of **2.9** , juxtaposed against staggering maximum values soaring as high as 547, a colossal leap of nearly 1800% above the mean. Yet, upon scrutinizing the distribution plot, a notable trend emerges: the overwhelming majority of movies boast a popularity score below 10, underscored by the fact that even at the 75th percentile, the score hovers at a modest 3.678902."
      ]
    },
    {
      "cell_type": "markdown",
      "metadata": {
        "id": "oC2mo9645Qi-"
      },
      "source": [
        "#### **Most Popular Movies by Popularity Score**"
      ]
    },
    {
      "cell_type": "code",
      "execution_count": null,
      "metadata": {
        "id": "VPeas-h55Qi_"
      },
      "outputs": [],
      "source": [
        "df[['title', 'popularity', 'year']].sort_values('popularity', ascending=False).head(10)"
      ]
    },
    {
      "cell_type": "markdown",
      "metadata": {
        "id": "MwCMj8M_5Qi_"
      },
      "source": [
        "At the helm of the TMDB Popularity Score leaderboard stands **Minions** reigning as the epitome of cinematic acclaim. Following closely behind are **Wonder Woman**  and **Beauty and the Beast**, two formidable contenders that have not only captivated audiences worldwide but have also solidified their status as empowering symbols of female-centric storytelling, securing second and third positions with unwavering grace and acclaim."
      ]
    },
    {
      "cell_type": "code",
      "execution_count": null,
      "metadata": {
        "id": "JOEEA_PT5Qi_"
      },
      "outputs": [],
      "source": [
        "df['vote_count'].describe()"
      ]
    },
    {
      "cell_type": "markdown",
      "metadata": {
        "id": "OMxnqwmW5Qi_"
      },
      "source": [
        "Similar to popularity scores, the distribution of vote counts reveals a stark skewness, with the median count resting at a modest 10 votes. However, there exists a considerable outlier, with one movie amassing a staggering 14,075 votes, accentuating the vast spectrum of engagement among TMDB users. While TMDB Votes may not wield the same influence and depth as its IMDb counterpart, it still serves as a noteworthy metric for gauging audience interaction. Let us now embark on a journey to uncover the most celebrated and widely-voted movies on the platform."
      ]
    },
    {
      "cell_type": "markdown",
      "metadata": {
        "id": "PBUxeZmz5Qi_"
      },
      "source": [
        "#### **Most Voted on Movies**"
      ]
    },
    {
      "cell_type": "code",
      "execution_count": null,
      "metadata": {
        "id": "D7q9Lmih5QjA"
      },
      "outputs": [],
      "source": [
        "df[['title', 'vote_count', 'year']].sort_values('vote_count', ascending=False).head(10)"
      ]
    },
    {
      "cell_type": "markdown",
      "metadata": {
        "id": "QzFVmLFe5QjA"
      },
      "source": [
        "At the summit of our chart stand two masterpieces from the visionary director Christopher Nolan: **Inception**  and **The Dark Knight** Both films have garnered widespread acclaim from critics and audiences alike, transcending mere box office success to become emblematic of cinematic excellence. Nolan's unparalleled storytelling prowess and cinematic craftsmanship shine through in these timeless classics, solidifying their place at the pinnacle of our rankings.\n"
      ]
    },
    {
      "cell_type": "code",
      "execution_count": null,
      "metadata": {
        "id": "R7B1TUvq5QjA"
      },
      "outputs": [],
      "source": [
        "df['vote_average'] = df['vote_average'].replace(0, np.nan)\n",
        "df['vote_average'].describe()"
      ]
    },
    {
      "cell_type": "code",
      "source": [
        "import seaborn as sns\n",
        "import matplotlib.pyplot as plt\n",
        "\n",
        "plt.figure(figsize=(10, 6))\n",
        "sns.set(style=\"whitegrid\")\n",
        "sns.distplot(df['vote_average'].fillna(df['vote_average'].median()), color='skyblue')\n",
        "plt.xlabel('Vote Average')\n",
        "plt.ylabel('Density')\n",
        "plt.title('Density Plot of Vote Average')\n",
        "plt.show()\n"
      ],
      "metadata": {
        "id": "g4NxnfrQDMTy"
      },
      "execution_count": null,
      "outputs": []
    },
    {
      "cell_type": "markdown",
      "metadata": {
        "id": "E4SCWHgz5QjA"
      },
      "source": [
        "TMDB users demonstrate discerning tastes in their ratings, evident from the modest mean rating of **5.6** on a 10-point scale. With half of the movies garnering ratings equal to or less than 6, it's clear that excellence is rigorously evaluated by the community. In our pursuit of identifying the most esteemed cinematic gems according to TMDB, we adopt a criterion akin to IMDb's threshold of 5000 votes for its top 250 list. Thus, we focus our attention solely on movies with more than 2000 votes, ensuring a robust selection process that highlights the true cream of the crop."
      ]
    },
    {
      "cell_type": "markdown",
      "metadata": {
        "id": "4junqZ7R5QjA"
      },
      "source": [
        "#### **Most Critically Acclaimed Movies**"
      ]
    },
    {
      "cell_type": "code",
      "execution_count": null,
      "metadata": {
        "id": "JKKeipB85QjB"
      },
      "outputs": [],
      "source": [
        "df[df['vote_count'] > 2000][['title', 'vote_average', 'vote_count' ,'year']].sort_values('vote_average', ascending=False).head(10)"
      ]
    },
    {
      "cell_type": "markdown",
      "metadata": {
        "id": "PPo45GN-5QjB"
      },
      "source": [
        "In the realm of cinematic acclaim, **The Shawshank Redemption** and **The Godfather** stand as pillars of excellence within the TMDB Database. Remarkably, their eminence extends beyond TMDB, as they reign supreme as the top two movies on IMDb's prestigious Top 250 Movies list. Garnering ratings exceeding 9 on IMDb, these timeless classics exude a level of reverence and admiration that transcends platforms, despite their slightly lower but still commendable TMDB scores of 8.5."
      ]
    },
    {
      "cell_type": "markdown",
      "metadata": {
        "collapsed": true,
        "id": "KpnY_HDu5QjB"
      },
      "source": [
        "Are popularity and vote average interconnected in a tangible manner? In essence, do these metrics exhibit a robust positive correlation? To unravel this inquiry, let's embark on a visual exploration by crafting a scatterplot to depict their relationship. Through this graphical representation, we aim to discern any discernible patterns or trends that may shed light on the extent of their correlation."
      ]
    },
    {
      "cell_type": "code",
      "source": [
        "import seaborn as sns\n",
        "import matplotlib.pyplot as plt\n",
        "\n",
        "sns.set(style=\"whitegrid\")\n",
        "sns.jointplot(x='vote_average', y='popularity', data=df, cmap='viridis')\n",
        "plt.show()\n"
      ],
      "metadata": {
        "id": "SesxrvOoDfj9"
      },
      "execution_count": null,
      "outputs": []
    },
    {
      "cell_type": "markdown",
      "metadata": {
        "id": "hEliO0Ok5QjB"
      },
      "source": [
        "\n",
        "Astoundingly, the Pearson Coefficient between the two aforementioned variables barely scratches the surface at**0.097** , indicating a **lack of substantial correlation**. This implies that popularity and vote average stand as separate entities, each with its own sway and influence. It sparks curiosity to delve into the methodology employed by TMDB in assigning numerical popularity metrics to its films."
      ]
    },
    {
      "cell_type": "code",
      "execution_count": null,
      "metadata": {
        "id": "Uz6j6X7X5QjB"
      },
      "outputs": [],
      "source": [
        "sns.jointplot(x='vote_average', y='vote_count', data=df)"
      ]
    },
    {
      "cell_type": "markdown",
      "metadata": {
        "id": "ZMQCKBlj5QjC"
      },
      "source": [
        "The correlation between Vote Count and Vote Average is notably modest. It's important to recognize that a high number of votes for a movie doesn't automatically translate to its quality."
      ]
    },
    {
      "cell_type": "markdown",
      "metadata": {
        "id": "YTH8hK9Z5QjC"
      },
      "source": [
        "### **Movie Release Dates**"
      ]
    },
    {
      "cell_type": "markdown",
      "metadata": {
        "id": "RWMzwXPn5QjC"
      },
      "source": [
        "The timing of a movie's release can wield significant influence over its success and financial returns. In the upcoming analysis, we aim to unravel the significance of release dates, exploring trends across years, months, and even days of the week.\n",
        "\n",
        "As part of our preliminary data preparation, we've already integrated the **year** feature. Now, our focus shifts to extracting the month and day components for each movie's release date."
      ]
    },
    {
      "cell_type": "code",
      "execution_count": null,
      "metadata": {
        "collapsed": true,
        "id": "H-B1s4_r5QjC"
      },
      "outputs": [],
      "source": [
        "month_order = ['Jan', 'Feb', 'Mar', 'Apr', 'May', 'Jun', 'Jul', 'Aug', 'Sep', 'Oct', 'Nov', 'Dec']\n",
        "day_order = ['Mon', 'Tue', 'Wed', 'Thu', 'Fri', 'Sat', 'Sun']"
      ]
    },
    {
      "cell_type": "code",
      "execution_count": null,
      "metadata": {
        "collapsed": true,
        "id": "4elxiFm_5QjC"
      },
      "outputs": [],
      "source": [
        "def get_month(x):\n",
        "    try:\n",
        "        return month_order[int(str(x).split('-')[1]) - 1]\n",
        "    except:\n",
        "        return np.nan"
      ]
    },
    {
      "cell_type": "code",
      "execution_count": null,
      "metadata": {
        "collapsed": true,
        "id": "YIOuUTLB5QjD"
      },
      "outputs": [],
      "source": [
        "def get_day(x):\n",
        "    try:\n",
        "        year, month, day = (int(i) for i in x.split('-'))\n",
        "        answer = datetime.date(year, month, day).weekday()\n",
        "        return day_order[answer]\n",
        "    except:\n",
        "        return np.nan"
      ]
    },
    {
      "cell_type": "code",
      "execution_count": null,
      "metadata": {
        "collapsed": true,
        "id": "xAt7T6kZ5QjD"
      },
      "outputs": [],
      "source": [
        "df['day'] = df['release_date'].apply(get_day)\n",
        "df['month'] = df['release_date'].apply(get_month)"
      ]
    },
    {
      "cell_type": "markdown",
      "metadata": {
        "id": "aagh2lkb5QjD"
      },
      "source": [
        "Armed with these crucial features, it's time to delve into the analysis and uncover which months and days emerge as the hotspots for popularity and success in the realm of movie releases."
      ]
    },
    {
      "cell_type": "code",
      "source": [
        "import matplotlib.pyplot as plt\n",
        "import seaborn as sns\n",
        "\n",
        "plt.figure(figsize=(12, 6))\n",
        "plt.title(\"Number of Movies released in a particular month.\")\n",
        "sns.countplot(x='month', data=df, order=month_order, palette='Set2')\n",
        "plt.show()\n"
      ],
      "metadata": {
        "id": "cnkornpqEbrz"
      },
      "execution_count": null,
      "outputs": []
    },
    {
      "cell_type": "markdown",
      "metadata": {
        "id": "8w_kjbYG5QjE"
      },
      "source": [
        "\n",
        "**January** emerges as the reigning champion in terms of movie releases, a phenomenon often associated with Hollywood's \"dump month,\" notorious for the influx of subpar releases.\n",
        "\n",
        "**Now, shifting our focus, I will aim to pinpoint the months favored by blockbuster releases. To achieve this, I will examine movies exceeding the $100 million mark and analyze the average gross for each month.**\n"
      ]
    },
    {
      "cell_type": "code",
      "source": [
        "import matplotlib.pyplot as plt\n",
        "import seaborn as sns\n",
        "\n",
        "month_mean = pd.DataFrame(df[df['revenue'] > 1e8].groupby('month')['revenue'].mean())\n",
        "month_mean['mon'] = month_mean.index\n",
        "\n",
        "plt.figure(figsize=(12, 6))\n",
        "plt.title(\"Average Gross by the Month for Blockbuster Movies\")\n",
        "sns.barplot(x='mon', y='revenue', data=month_mean, order=month_order, palette='Set2')\n",
        "plt.show()\n"
      ],
      "metadata": {
        "id": "-FXAezlVEtds"
      },
      "execution_count": null,
      "outputs": []
    },
    {
      "cell_type": "markdown",
      "metadata": {
        "id": "rzYL9IUC5QjE"
      },
      "source": [
        "\n",
        " **April**, **May** and **June** emerge as the prime contenders with the highest average gross among high-grossing films. This trend finds its roots in the strategic timing of blockbuster releases, often coinciding with the summer season. With school holidays in session and families embarking on vacations, the audience demographic is primed for entertainment, leading to increased spending on leisure activities.\n",
        "\n",
        "**Now, turning our attention to the broader picture, I will aim to explore whether certain months consistently outshine others in terms of success. To achieve this, I will visualize the relationship between returns and months through box plots, offering insights into the variability and distribution of returns across different months.**\n",
        "\n"
      ]
    },
    {
      "cell_type": "code",
      "execution_count": null,
      "metadata": {
        "id": "jM1nlkLp5QjE"
      },
      "outputs": [],
      "source": [
        "fig, ax = plt.subplots(nrows=1, ncols=1,figsize=(15, 8))\n",
        "sns.boxplot(x='month', y='return', data=df[df['return'].notnull()], palette=\"muted\", ax =ax, order=month_order)\n",
        "ax.set_ylim([0, 12])"
      ]
    },
    {
      "cell_type": "markdown",
      "metadata": {
        "id": "SZY0_G4U5QjF"
      },
      "source": [
        "**June** and **July** consistently stand out with the highest median returns, underscoring their status as peak months for successful movie releases. Conversely, **September** trails behind as the least successful month across these metrics. Once more, the buoyancy of June and July releases aligns with the summer season and vacation periods, fostering a conducive environment for movie attendance. In contrast, September marks the onset of the academic semester, leading to a dip in movie consumption as individuals refocus their priorities.\n",
        "\n",
        "**Having examined the monthly landscape, let's now shift my focus will be to explore the popularity trends across days of the week, mirroring our previous analysis.**\n",
        "\n"
      ]
    },
    {
      "cell_type": "code",
      "source": [
        "import matplotlib.pyplot as plt\n",
        "import seaborn as sns\n",
        "\n",
        "plt.figure(figsize=(10, 5))\n",
        "plt.title(\"Number of Movies released on a particular day.\")\n",
        "sns.countplot(x='day', data=df, order=day_order, palette='Greens')\n",
        "plt.show()\n"
      ],
      "metadata": {
        "id": "PI2CY3r5E-Vs"
      },
      "execution_count": null,
      "outputs": []
    },
    {
      "cell_type": "markdown",
      "metadata": {
        "id": "ot4pgjf35QjF"
      },
      "source": [
        "\n",
        "**Friday** stands as the undisputed champion of movie releases, reigning supreme as the favored day for cinematic debuts. It's a logical choice, marking the gateway to the weekend, when audiences are primed for entertainment. Conversely, **Sunday** and **Monday** see minimal activity in comparison, a trend easily traced back to their roles as the tail end and kickoff of the workweek, respectively. The rhythm of the week dictates the ebb and flow of audience attendance, with Friday shining brightest in the spotlight of movie magic."
      ]
    },
    {
      "cell_type": "markdown",
      "metadata": {
        "id": "q3AvGjWQ5QjF"
      },
      "source": [
        "#### **Number of Movies by the year**\n",
        "\n",
        "Although our dataset of 45,000 movies may not encompass the entirety of cinematic history, it does offer a substantial glimpse into the evolution of the film industry. While it's not exhaustive, it's fair to infer that it covers a significant portion of major releases from Hollywood and other prominent global film hubs like Bollywood. Keeping this assumption in perspective, we can delve into the trends of movie production over the years."
      ]
    },
    {
      "cell_type": "code",
      "source": [
        "import matplotlib.pyplot as plt\n",
        "\n",
        "year_count = df.groupby('year')['title'].count()\n",
        "plt.figure(figsize=(18, 5))\n",
        "year_count.plot(color='red')\n",
        "plt.show()\n"
      ],
      "metadata": {
        "id": "mfCvBtT-FNeE"
      },
      "execution_count": null,
      "outputs": []
    },
    {
      "cell_type": "markdown",
      "metadata": {
        "id": "Icwul1V55QjG"
      },
      "source": [
        "In examining the dataset, a notable trend emerges: a pronounced surge in the quantity of films **beginning from the 1990s**. While this spike is intriguing, it's prudent to exercise caution in drawing conclusions, considering the potential for oversampling of contemporary films within the dataset.\n",
        "\n",
        "**Moving forward, our focus shifts to the cinematic pioneers, delving into the earliest entries within this repository of cinematic history.**\n",
        "\n",
        "\n",
        "\n",
        "\n",
        "#### **Earliest Movies Represented**"
      ]
    },
    {
      "cell_type": "code",
      "execution_count": null,
      "metadata": {
        "id": "75w37pMP5QjH"
      },
      "outputs": [],
      "source": [
        "df[df['year'] != 'NaT'][['title', 'year']].sort_values('year').head(10)"
      ]
    },
    {
      "cell_type": "markdown",
      "metadata": {
        "id": "rDWz2HQe5QjH"
      },
      "source": [
        "The inaugural film, **Passage of Venus** captures a pivotal celestial event: the transit of Venus across the Sun in 1874. Crafted through a series of photographs, this historic visual documentation emanated from Japan, courtesy of the renowned French astronomer Pierre Janssen and his groundbreaking 'photographic revolver.' Notably, its significance extends beyond its chronological primacy; \"Passage of Venus\" proudly holds the distinction of being the oldest film archived on both IMDB and TMDB, solidifying its enduring legacy in cinematic annals."
      ]
    },
    {
      "cell_type": "markdown",
      "metadata": {
        "id": "8SFW7nnW5QjH"
      },
      "source": [
        "\n",
        "**Concluding our exploration of this section, I will now embark on the creation of a heatmap delineating movie releases by month and year within the confines of the current century. Such visual representation promises valuable insights into the ebb and flow of cinematic output, offering discerning movie enthusiasts a panoramic view of the industry's temporal rhythms. By discerning the peaks and troughs within this cinematic chronology, I will illuminate the hotbeds of cinematic fervor and the cooler intervals, thereby painting a vivid portrait of the cinephile's calendar.**"
      ]
    },
    {
      "cell_type": "code",
      "execution_count": null,
      "metadata": {
        "collapsed": true,
        "id": "4VdxOKJc5QjH"
      },
      "outputs": [],
      "source": [
        "months = {'Jan': 1, 'Feb': 2, 'Mar': 3, 'Apr': 4, 'May': 5, 'Jun': 6, 'Jul': 7, 'Aug': 8, 'Sep': 9, 'Oct': 10, 'Nov': 11, 'Dec': 12}"
      ]
    },
    {
      "cell_type": "code",
      "execution_count": null,
      "metadata": {
        "collapsed": true,
        "id": "e39pf5ox5QjI"
      },
      "outputs": [],
      "source": [
        "df_21 = df.copy()\n",
        "df_21['year'] = df_21[df_21['year'] != 'NaT']['year'].astype(int)\n",
        "df_21 = df_21[df_21['year'] >=2000]\n",
        "hmap_21 = pd.pivot_table(data=df_21, index='month', columns='year', aggfunc='count', values='title')\n",
        "hmap_21 = hmap_21.fillna(0)"
      ]
    },
    {
      "cell_type": "code",
      "execution_count": null,
      "metadata": {
        "id": "VRNrHUPh5QjI"
      },
      "outputs": [],
      "source": [
        "sns.set(font_scale=1)\n",
        "f, ax = plt.subplots(figsize=(16, 8))\n",
        "sns.heatmap(hmap_21, annot=True, linewidths=.5, ax=ax, fmt='n', yticklabels=month_order)"
      ]
    },
    {
      "cell_type": "code",
      "execution_count": null,
      "metadata": {
        "collapsed": true,
        "id": "26efuV8n5QjI"
      },
      "outputs": [],
      "source": [
        "sns.set(font_scale=1.25)"
      ]
    },
    {
      "cell_type": "markdown",
      "metadata": {
        "id": "KvbnM-Z85QjI"
      },
      "source": [
        "### **Movie Status**\n",
        "\n",
        "While diverging slightly from our primary focus on movie analysis, delving into the categorization of films based on their release status holds promise for uncovering intriguing facets of our dataset. Initially, my intuition led me to anticipate that the majority of films would carry the **Released** status.\n",
        "\n",
        "**Yet, as I embark on this investigative journey, I aim to shed light on the distribution and proportions of various release statuses within my dataset, potentially unraveling unexpected trends and nuances that enrich my understanding of the cinematic landscape encapsulated within my data.**\n"
      ]
    },
    {
      "cell_type": "code",
      "execution_count": null,
      "metadata": {
        "id": "JC7j4jl05QjJ"
      },
      "outputs": [],
      "source": [
        "df['status'].value_counts()"
      ]
    },
    {
      "cell_type": "markdown",
      "metadata": {
        "id": "BLVuPMWv5QjJ"
      },
      "source": [
        "While the film industry churns out releases, MovieLens stands out by featuring user ratings for movies still in development. This data could be invaluable for enhancing our collaborative filtering recommendation system."
      ]
    },
    {
      "cell_type": "markdown",
      "metadata": {
        "id": "intk5fhi5QjJ"
      },
      "source": [
        "### **Spoken Languages**\n",
        "\n",
        "\n",
        "**Can the number of languages spoken in a movie affect its success? It's an intriguing question worth exploring.**\n",
        "\n",
        " To delve into this, I plan to transform the **spoken_languages**feature of my dataset into a numerical representation, indicating the count of languages spoken in each film. This approach could shed light on the potential correlation between linguistic diversity and a movie's reception, offering valuable insights for my analysis."
      ]
    },
    {
      "cell_type": "code",
      "execution_count": null,
      "metadata": {
        "collapsed": true,
        "id": "-YKZPEtr5QjJ"
      },
      "outputs": [],
      "source": [
        "df['spoken_languages'] = df['spoken_languages'].fillna('[]').apply(ast.literal_eval).apply(lambda x: len(x) if isinstance(x, list) else np.nan)"
      ]
    },
    {
      "cell_type": "code",
      "execution_count": null,
      "metadata": {
        "id": "MberldzG5QjJ"
      },
      "outputs": [],
      "source": [
        "df['spoken_languages'].value_counts()"
      ]
    },
    {
      "cell_type": "markdown",
      "metadata": {
        "id": "Ejd_X87W5QjK"
      },
      "source": [
        "While most films stick to one language, there are exceptions. One remarkable film features dialogue in **19** languages. Let's now focus on movies with more than 10 spoken languages."
      ]
    },
    {
      "cell_type": "code",
      "execution_count": null,
      "metadata": {
        "id": "ELZaLoFK5QjK"
      },
      "outputs": [],
      "source": [
        "df[df['spoken_languages'] >= 10][['title', 'year', 'spoken_languages']].sort_values('spoken_languages', ascending=False)"
      ]
    },
    {
      "cell_type": "markdown",
      "metadata": {
        "id": "nkV0tbUt5QjK"
      },
      "source": [
        "**Visions of Europe,** the movie boasting the highest number of languages, isn't a singular narrative but rather a compilation of 25 short films, each helmed by a different European director. This anthology format accounts for its remarkable linguistic diversity."
      ]
    },
    {
      "cell_type": "markdown",
      "metadata": {
        "id": "AEM4YW5l5QjQ"
      },
      "source": [
        "### **Runtime**\n",
        "\n",
        "Movies have evolved significantly in terms of length, from humble one-minute silent, black-and-white clips to epic three-hour visual masterpieces. In this section, we aim to delve deeper into the evolution of movie lengths, uncovering insights about their nature and historical trends."
      ]
    },
    {
      "cell_type": "code",
      "source": [
        "df['runtime'].describe()"
      ],
      "metadata": {
        "id": "fKYj8ZI9GEd8"
      },
      "execution_count": null,
      "outputs": []
    },
    {
      "cell_type": "markdown",
      "metadata": {
        "id": "e-xjfbQ35QjR"
      },
      "source": [
        "The average movie length hovers around 1 hour and 30 minutes. However, the longest film in this dataset clocks in at a **staggering 1256 minutes, equivalent to 20 hours of runtime**."
      ]
    },
    {
      "cell_type": "code",
      "execution_count": null,
      "metadata": {
        "collapsed": true,
        "id": "OIpI3YLh5QjR"
      },
      "outputs": [],
      "source": [
        "df['runtime'] = df['runtime'].astype('float')"
      ]
    },
    {
      "cell_type": "markdown",
      "metadata": {
        "id": "W_rWXIZR5QjR"
      },
      "source": [
        "Recognizing that the majority of movies fall under the 5-hour mark, **I aim to visualize the distribution of these mainstream films through plotting**."
      ]
    },
    {
      "cell_type": "code",
      "execution_count": null,
      "metadata": {
        "id": "r4dQPX6D5QjR"
      },
      "outputs": [],
      "source": [
        "plt.figure(figsize=(12,6))\n",
        "sns.distplot(df[(df['runtime'] < 300) & (df['runtime'] > 0)]['runtime'])"
      ]
    },
    {
      "cell_type": "markdown",
      "metadata": {
        "id": "-Z0Ij3DY5QjS"
      },
      "source": [
        "Let's explore whether there's a significant correlation between a movie's runtime and its return."
      ]
    },
    {
      "cell_type": "code",
      "source": [
        "import seaborn as sns\n",
        "import matplotlib.pyplot as plt\n",
        "\n",
        "df_mat = df[(df['return'].notnull()) & (df['runtime'] > 0) & (df['return'] < 10)]\n",
        "sns.jointplot(x='return', y='runtime', data=df_mat, color='lightgreen')\n",
        "plt.show()\n"
      ],
      "metadata": {
        "id": "I14ywb68QnZZ"
      },
      "execution_count": null,
      "outputs": []
    },
    {
      "cell_type": "markdown",
      "metadata": {
        "id": "gw1DJcLL5QjS"
      },
      "source": [
        "While it appears that **a movie's duration is unrelated to its success**, there's a suspicion that this might not hold true for duration and budget. Intuitively, longer films would require a larger budget.\n",
        "\n",
        "\n",
        "**Let's investigate whether this hypothesis bears in my analysis.**\n"
      ]
    },
    {
      "cell_type": "code",
      "source": [
        "import seaborn as sns\n",
        "import matplotlib.pyplot as plt\n",
        "\n",
        "df_mat = df[(df['budget'].notnull()) & (df['runtime'] > 0)]\n",
        "sns.jointplot(x='budget', y='runtime', data=df_mat, color='green')\n",
        "plt.show()\n"
      ],
      "metadata": {
        "id": "H4jPTp4mQ0RT"
      },
      "execution_count": null,
      "outputs": []
    },
    {
      "cell_type": "markdown",
      "metadata": {
        "id": "0Fr3jJ-25QjT"
      },
      "source": [
        "Surprisingly, the correlation between the two variables is weaker than anticipated. It appears that a film's genre plays a more substantial role in determining its budget. For instance, a lengthy art film tends to be more cost-effective compared to a shorter Sci-Fi flick.\n",
        "\n",
        "Additionally, I'm curious about the average durations of films spanning from the 1890s to the 2010s. Examining these trends could offer insights into filmmakers' perceptions of ideal movie lengths throughout history."
      ]
    },
    {
      "cell_type": "code",
      "execution_count": null,
      "metadata": {
        "id": "2UQ_iEW35QjT"
      },
      "outputs": [],
      "source": [
        "plt.figure(figsize=(18,5))\n",
        "year_runtime = df[df['year'] != 'NaT'].groupby('year')['runtime'].mean()\n",
        "plt.plot(year_runtime.index, year_runtime)\n",
        "plt.xticks(np.arange(1874, 2024, 10.0))\n",
        "plt.show()"
      ]
    },
    {
      "cell_type": "markdown",
      "metadata": {
        "id": "NyPeFGMQ5QjT"
      },
      "source": [
        "It's fascinating to observe that films reached the **60-minute mark** as early as 1914. By **1924**, the standard 90-minute duration emerged and has persisted ever since.\n",
        "\n",
        "**Moving on, let's explore the longest and shortest films in our dataset.**"
      ]
    },
    {
      "cell_type": "markdown",
      "metadata": {
        "id": "DKnMV52u5QjT"
      },
      "source": [
        "#### **Shortest Movies**"
      ]
    },
    {
      "cell_type": "code",
      "execution_count": null,
      "metadata": {
        "id": "HuEyfzXD5QjT"
      },
      "outputs": [],
      "source": [
        "df[df['runtime'] > 0][['runtime', 'title', 'year']].sort_values('runtime').head(10)"
      ]
    },
    {
      "cell_type": "markdown",
      "metadata": {
        "id": "mxwOH9Rh5QjU"
      },
      "source": [
        "\n",
        "With the exception of **A Gathering of Cats** all the films on this list were shot in the late 1890s and early 20th century, each lasting only one minute.\n"
      ]
    },
    {
      "cell_type": "markdown",
      "metadata": {
        "id": "xja3H75n5QjU"
      },
      "source": [
        "#### **Longest Movies**"
      ]
    },
    {
      "cell_type": "code",
      "execution_count": null,
      "metadata": {
        "id": "L5dKSQMu5QjU"
      },
      "outputs": [],
      "source": [
        "df[df['runtime'] > 0][['runtime', 'title', 'year']].sort_values('runtime', ascending=False).head(10)"
      ]
    },
    {
      "cell_type": "markdown",
      "metadata": {
        "id": "bsUcC-Ar5QjU"
      },
      "source": [
        "The majority of entries in the chart are miniseries, not feature-length films. Therefore, it's challenging to draw meaningful insights since our dataset lacks a clear distinction between the two without manual sorting."
      ]
    },
    {
      "cell_type": "markdown",
      "metadata": {
        "id": "TgdrcVkc5QjU"
      },
      "source": [
        "### **Budget**\n",
        "\n",
        "Now, let's shift focus to budget. Acknowledging its skewed nature and susceptibility to inflation, delving into budget data still promises valuable insights. Budget plays a crucial role in predicting a movie's revenue and success. To begin, let's gather summary statistics for our budget data."
      ]
    },
    {
      "cell_type": "code",
      "execution_count": null,
      "metadata": {
        "id": "2UC4sA_65QjU"
      },
      "outputs": [],
      "source": [
        "df['budget'].describe()"
      ]
    },
    {
      "cell_type": "markdown",
      "metadata": {
        "id": "hAr7RoyN5QjV"
      },
      "source": [
        "The mean budget for a film stands at USD 21.6 million, contrasting sharply with the median of USD 8 million. This disparity strongly indicates the influence of outliers on the mean value."
      ]
    },
    {
      "cell_type": "code",
      "source": [
        "sns.distplot(df[df['budget'].notnull()]['budget'], color='red')"
      ],
      "metadata": {
        "id": "9NSnDjmOP97Y"
      },
      "execution_count": null,
      "outputs": []
    },
    {
      "cell_type": "code",
      "source": [
        "df['budget'].plot(logy=True, kind='hist', color='yellow')\n",
        "plt.show()\n"
      ],
      "metadata": {
        "id": "v1axbHagQVbq"
      },
      "execution_count": null,
      "outputs": []
    },
    {
      "cell_type": "markdown",
      "metadata": {
        "id": "CYuW_8Fc5QjV"
      },
      "source": [
        "The distribution of movie budgets follows an exponential decay, with over 75% of films having budgets below $25 million. Now, let's examine the highest-budget movies of all time and the revenue and returns they generated."
      ]
    },
    {
      "cell_type": "markdown",
      "metadata": {
        "id": "Ux98ZFpY5QjV"
      },
      "source": [
        "#### **Most Expensive Movies of all Time**"
      ]
    },
    {
      "cell_type": "code",
      "execution_count": null,
      "metadata": {
        "id": "N03HRW1G5QjW"
      },
      "outputs": [],
      "source": [
        "df[df['budget'].notnull()][['title', 'budget', 'revenue', 'return', 'year']].sort_values('budget', ascending=False).head(10)"
      ]
    },
    {
      "cell_type": "markdown",
      "metadata": {
        "id": "D-7zQYzC5QjW"
      },
      "source": [
        "Two **Pirates of the Carribean** films lead the list with budgets exceeding **USD 300 million** each. Among the top 10 most expensive films, all but **The Lone Ranger** turned a profit, with the latter recouping less than 35% of its **USD 255 million** budget.\n",
        "\n",
        "**Regarding correlation, the strength of the budget-revenue correlation determines forecast accuracy**.\n",
        "\n"
      ]
    },
    {
      "cell_type": "code",
      "source": [
        "sns.jointplot(x='budget', y='revenue', data=df[df['return'].notnull()], color='purple')"
      ],
      "metadata": {
        "id": "ksfziPqkRGnW"
      },
      "execution_count": null,
      "outputs": []
    },
    {
      "cell_type": "markdown",
      "metadata": {
        "id": "gFXsYbm25QjW"
      },
      "source": [
        "The pearson r value of **0.73** between the two quantities indicates a very strong correlation."
      ]
    },
    {
      "cell_type": "markdown",
      "metadata": {
        "id": "T5MkyDf25QjW"
      },
      "source": [
        "### **Revenue**\n",
        "\n",
        "Let's delve into revenue, a pivotal metric in movie analysis. Predicting revenue based on various features is our next endeavor. Similar to budget analysis, we'll commence by examining summary statistics."
      ]
    },
    {
      "cell_type": "code",
      "execution_count": null,
      "metadata": {
        "id": "ZKuEHjcA5QjX"
      },
      "outputs": [],
      "source": [
        "df['revenue'].describe()"
      ]
    },
    {
      "cell_type": "markdown",
      "metadata": {
        "id": "wslqT04S5QjX"
      },
      "source": [
        "\n",
        "With a mean gross of **USD 68.7 million** and a considerably lower median of **USD 16.8 million**, it's evident that movie revenue is skewed. The spectrum ranges from a mere **USD 1** to a staggering **USD 2.78 billion**, showcasing the vast potential in this industry."
      ]
    },
    {
      "cell_type": "code",
      "source": [
        "sns.distplot(df[df['revenue'].notnull()]['revenue'], color='cyan')\n"
      ],
      "metadata": {
        "id": "CtUB-diBRiTl"
      },
      "execution_count": null,
      "outputs": []
    },
    {
      "cell_type": "markdown",
      "metadata": {
        "id": "ujQLcXsv5QjY"
      },
      "source": [
        "Revenue distribution mirrors that of budget, displaying exponential decay. Moreover, we observed a strong correlation between the two. Now, let's examine both the highest and lowest grossing movies ever."
      ]
    },
    {
      "cell_type": "markdown",
      "metadata": {
        "id": "D0TdVq0c5QjY"
      },
      "source": [
        "#### **Highest Grossing Films of All Time**"
      ]
    },
    {
      "cell_type": "code",
      "execution_count": null,
      "metadata": {
        "id": "NDIDy_Sn5QjY"
      },
      "outputs": [],
      "source": [
        "gross_top = df[['poster_path', 'title', 'budget', 'revenue', 'year']].sort_values('revenue', ascending=False).head(10)\n",
        "pd.set_option('display.max_colwidth', 100)\n",
        "HTML(gross_top.to_html(escape=False))"
      ]
    },
    {
      "cell_type": "code",
      "execution_count": null,
      "metadata": {
        "collapsed": true,
        "id": "4_J0oinP5QjZ"
      },
      "outputs": [],
      "source": [
        "pd.set_option('display.max_colwidth', 50)"
      ]
    },
    {
      "cell_type": "markdown",
      "metadata": {
        "id": "I8jBnoUs5QjZ"
      },
      "source": [
        "These figures aren't adjusted for inflation, leading to a bias towards recent movies in the top 10 list. To grasp revenue trends over time, let's plot the maximum revenue across the years."
      ]
    },
    {
      "cell_type": "code",
      "execution_count": null,
      "metadata": {
        "id": "u1TOTLHO5QjZ"
      },
      "outputs": [],
      "source": [
        "plt.figure(figsize=(18,5))\n",
        "year_revenue = df[(df['revenue'].notnull()) & (df['year'] != 'NaT')].groupby('year')['revenue'].max()\n",
        "plt.plot(year_revenue.index, year_revenue)\n",
        "plt.xticks(np.arange(1874, 2024, 10.0))\n",
        "plt.show()"
      ]
    },
    {
      "cell_type": "markdown",
      "metadata": {
        "id": "9N9J0jlW5QjZ"
      },
      "source": [
        "The graph illustrates a consistent rise in maximum gross over the years. **Titanic** marked the industry's first billion-dollar milestone in 1997, followed by **Avatar** in 2009, both directed by James Cameron, to surpass the USD 2 billion mark after 12 years.\n"
      ]
    },
    {
      "cell_type": "markdown",
      "metadata": {
        "id": "Ews40PqL5QjZ"
      },
      "source": [
        "### **Returns**\n",
        "\n",
        "\n",
        "For now, I won't delve into returns. Instead, **let's focus on identifying the least and most successful movies ever. I will narrow our scope to films with a budget exceeding $5 million.**"
      ]
    },
    {
      "cell_type": "markdown",
      "metadata": {
        "id": "SGTAKrEj5Qja"
      },
      "source": [
        "#### **Most Successful Movies**"
      ]
    },
    {
      "cell_type": "code",
      "execution_count": null,
      "metadata": {
        "id": "JX8CQtVl5Qja"
      },
      "outputs": [],
      "source": [
        "df[(df['return'].notnull()) & (df['budget'] > 5e6)][['title', 'budget', 'revenue', 'return', 'year']].sort_values('return', ascending=False).head(10)"
      ]
    },
    {
      "cell_type": "markdown",
      "metadata": {
        "id": "pJTUo2YN5Qja"
      },
      "source": [
        "#### **Worst Box Office Disasters**"
      ]
    },
    {
      "cell_type": "code",
      "execution_count": null,
      "metadata": {
        "id": "CCYqRIEh5Qja"
      },
      "outputs": [],
      "source": [
        "df[(df['return'].notnull()) & (df['budget'] > 5e6) & (df['revenue'] > 10000)][['title', 'budget', 'revenue', 'return', 'year']].sort_values('return').head(10)"
      ]
    },
    {
      "cell_type": "markdown",
      "metadata": {
        "id": "gKz2Mxr_5Qja"
      },
      "source": [
        "With these analyses completed, we're well-prepared to build our correlation matrix."
      ]
    },
    {
      "cell_type": "markdown",
      "source": [
        "## **Correlation Matrix**"
      ],
      "metadata": {
        "id": "wA2N5bsz5REB"
      }
    },
    {
      "cell_type": "code",
      "execution_count": null,
      "metadata": {
        "collapsed": true,
        "id": "7dE_EhGp5Qjb"
      },
      "outputs": [],
      "source": [
        "df['year'] = df['year'].replace('NaT', np.nan)"
      ]
    },
    {
      "cell_type": "code",
      "execution_count": null,
      "metadata": {
        "collapsed": true,
        "id": "zdYBn5IS5Qjb"
      },
      "outputs": [],
      "source": [
        "df['year'] = df['year'].apply(clean_numeric)"
      ]
    },
    {
      "cell_type": "code",
      "source": [
        "import seaborn as sns\n",
        "import matplotlib.pyplot as plt\n",
        "import numpy as np\n",
        "\n",
        "# Select only numeric columns from the DataFrame\n",
        "numeric_df = df.select_dtypes(include=np.number)\n",
        "\n",
        "# Compute the correlation matrix\n",
        "corr = numeric_df.corr()\n",
        "\n",
        "# Create a mask for the upper triangle\n",
        "mask = np.triu(np.ones_like(corr, dtype=bool))\n",
        "\n",
        "# Set up the matplotlib figure\n",
        "plt.figure(figsize=(9, 9))\n",
        "\n",
        "# Plot the heatmap\n",
        "sns.heatmap(corr, mask=mask, vmax=0.3, square=True, annot=True, cmap='coolwarm')\n",
        "\n",
        "plt.title('Correlation Heatmap')\n",
        "plt.show()\n"
      ],
      "metadata": {
        "id": "6JWdWVyNfomX"
      },
      "execution_count": null,
      "outputs": []
    },
    {
      "cell_type": "code",
      "execution_count": null,
      "metadata": {
        "collapsed": true,
        "id": "Sbe0wznJ5Qjb"
      },
      "outputs": [],
      "source": [
        "sns.set(font_scale=1.25)"
      ]
    },
    {
      "cell_type": "markdown",
      "metadata": {
        "id": "ERYgnnHp5Qjb"
      },
      "source": [
        "### **Genres**"
      ]
    },
    {
      "cell_type": "code",
      "execution_count": null,
      "metadata": {
        "collapsed": true,
        "id": "YLa1xyYt5Qjb"
      },
      "outputs": [],
      "source": [
        "df['genres'] = df['genres'].fillna('[]').apply(ast.literal_eval).apply(lambda x: [i['name'] for i in x] if isinstance(x, list) else [])"
      ]
    },
    {
      "cell_type": "code",
      "execution_count": null,
      "metadata": {
        "collapsed": true,
        "id": "kL_cHCkC5Qjc"
      },
      "outputs": [],
      "source": [
        "s = df.apply(lambda x: pd.Series(x['genres']),axis=1).stack().reset_index(level=1, drop=True)\n",
        "s.name = 'genre'"
      ]
    },
    {
      "cell_type": "code",
      "execution_count": null,
      "metadata": {
        "collapsed": true,
        "id": "xDz0PSUl5Qjc"
      },
      "outputs": [],
      "source": [
        "gen_df = df.drop('genres', axis=1).join(s)"
      ]
    },
    {
      "cell_type": "code",
      "execution_count": null,
      "metadata": {
        "id": "ncRKrYug5Qjc"
      },
      "outputs": [],
      "source": [
        "gen_df['genre'].value_counts().shape[0]"
      ]
    },
    {
      "cell_type": "markdown",
      "metadata": {
        "id": "4VHQyl0q5Qjc"
      },
      "source": [
        "Explore 45,000 movies across 32 distinct genres on TMDB.\n",
        "\n",
        "**Now lets delve into the top genres shaping cinematic landscapes.**"
      ]
    },
    {
      "cell_type": "code",
      "execution_count": null,
      "metadata": {
        "id": "eulMW5Qf5Qjc"
      },
      "outputs": [],
      "source": [
        "pop_gen = pd.DataFrame(gen_df['genre'].value_counts()).reset_index()\n",
        "pop_gen.columns = ['genre', 'movies']\n",
        "pop_gen.head(10)"
      ]
    },
    {
      "cell_type": "code",
      "source": [
        "plt.figure(figsize=(18, 8))\n",
        "sns.barplot(x='genre', y='movies', data=pop_gen.head(15), palette='Paired')\n",
        "plt.show()\n"
      ],
      "metadata": {
        "id": "C0rfaz7CP4Ih"
      },
      "execution_count": null,
      "outputs": []
    },
    {
      "cell_type": "markdown",
      "metadata": {
        "id": "rUmQghvO5Qjd"
      },
      "source": [
        "**Drama** dominates, with nearly half of all films falling into this genre, while **Comedy** follows at a distance with 25% offering laughs. Among the top 10 genres are also Action, Horror, Crime, Mystery, Science Fiction, Animation, and Fantasy.\n",
        "\n",
        "**Now, let's delve into global genre trends.**\n",
        "- **Are Science Fiction flicks gaining traction?**\n",
        "- **Do certain years favor Animation?**\n",
        "\n",
        "\n",
        "**I willfocus on data from 2000 onwards, examining the top 15 genres while excluding Documentaries, Family, and Foreign Films from our analysis.**\n"
      ]
    },
    {
      "cell_type": "code",
      "execution_count": null,
      "metadata": {
        "collapsed": true,
        "id": "zVxd0LQm5Qjd"
      },
      "outputs": [],
      "source": [
        "genres = ['Drama', 'Comedy', 'Thriller', 'Romance', 'Action', 'Horror', 'Crime', 'Adventure', 'Science Fiction', 'Mystery', 'Fantasy', 'Mystery', 'Animation']"
      ]
    },
    {
      "cell_type": "code",
      "execution_count": null,
      "metadata": {
        "id": "xXyxfwBv5Qjd"
      },
      "outputs": [],
      "source": [
        "pop_gen_movies = gen_df[(gen_df['genre'].isin(genres)) & (gen_df['year'] >= 2000) & (gen_df['year'] <= 2017)]\n",
        "ctab = pd.crosstab([pop_gen_movies['year']], pop_gen_movies['genre']).apply(lambda x: x/x.sum(), axis=1)\n",
        "ctab[genres].plot(kind='bar', stacked=True, colormap='jet', figsize=(12,8)).legend(loc='center left', bbox_to_anchor=(1, 0.5))\n",
        "plt.title(\"Stacked Bar Chart of Movie Proportions by Genre\")\n",
        "plt.show()"
      ]
    },
    {
      "cell_type": "code",
      "execution_count": null,
      "metadata": {
        "id": "TReoCENs5Qje"
      },
      "outputs": [],
      "source": [
        "ctab[genres].plot(kind='line', stacked=False, colormap='jet', figsize=(12,8)).legend(loc='center left', bbox_to_anchor=(1, 0.5))\n",
        "plt.show()"
      ]
    },
    {
      "cell_type": "markdown",
      "metadata": {
        "id": "2F-Vud5G5Qje"
      },
      "source": [
        "Genre proportions have generally held steady since the turn of the century, except for **Drama**, which saw a decline of over 5%. Conversely, **Thrillers** experienced a slight uptick in representation.\n",
        "\n",
        "One lingering question pertains to genre success metrics. While Science Fiction and Fantasy films often boast high revenue figures.\n",
        "\n",
        "**Do they maintain profitability when adjusted for budget? To shed light on this, I will visualize genre performance using violin plots, comparing revenue and returns.**"
      ]
    },
    {
      "cell_type": "code",
      "execution_count": null,
      "metadata": {
        "collapsed": true,
        "id": "IhF1gb3H5Qje"
      },
      "outputs": [],
      "source": [
        "violin_genres = ['Drama', 'Comedy', 'Thriller', 'Romance', 'Action', 'Horror', 'Crime', 'Science Fiction', 'Fantasy', 'Animation']\n",
        "violin_movies = gen_df[(gen_df['genre'].isin(violin_genres))]"
      ]
    },
    {
      "cell_type": "code",
      "source": [
        "# Reset index of the DataFrame to remove duplicate labels\n",
        "violin_movies.reset_index(drop=True, inplace=True)\n",
        "\n",
        "# Create the figure and axes\n",
        "plt.figure(figsize=(18, 8))\n",
        "fig, ax = plt.subplots(nrows=1, ncols=1, figsize=(15, 8))\n",
        "\n",
        "# Plot the boxplot\n",
        "sns.boxplot(x='genre', y='revenue', data=violin_movies, palette=\"muted\", ax=ax)\n",
        "\n",
        "# Set the y-axis limit\n",
        "ax.set_ylim([0, 3e8])\n",
        "\n",
        "# Show the plot\n",
        "plt.show()\n"
      ],
      "metadata": {
        "id": "3rG5aUjGSf-e"
      },
      "execution_count": null,
      "outputs": []
    },
    {
      "cell_type": "markdown",
      "metadata": {
        "id": "nQJTf3v-5Qjf"
      },
      "source": [
        "\n",
        "**Animation** films shine with the widest revenue range from the 25th to the 75th percentile, alongside boasting the highest median revenue across all genres. Following closely behind are **Fantasy** and **Science Fiction**, claiming the second and third spots for median revenue, respectively."
      ]
    },
    {
      "cell_type": "code",
      "execution_count": null,
      "metadata": {
        "id": "Urqt4KnQ5Qjf"
      },
      "outputs": [],
      "source": [
        "plt.figure(figsize=(18,8))\n",
        "fig, ax = plt.subplots(nrows=1, ncols=1,figsize=(15, 8))\n",
        "sns.boxplot(x='genre', y='return', data=violin_movies, palette=\"muted\", ax =ax)\n",
        "ax.set_ylim([0, 10])\n",
        "plt.show()"
      ]
    },
    {
      "cell_type": "markdown",
      "metadata": {
        "id": "FB04jRSF5Qjf"
      },
      "source": [
        "Based on the boxplot analysis, **Animation** movies emerge as the top earners on average, with **Horror** movies also showing promise. This is attributed partly to the lower budgets of Horror films compared to Fantasy counterparts, yet their potential for significant revenue generation remains notable."
      ]
    },
    {
      "cell_type": "markdown",
      "metadata": {
        "collapsed": true,
        "id": "muKFWNoI5Qjf"
      },
      "source": [
        "### **Cast and Crew**\n",
        "\n",
        "Now, let's shift our focus to the cast and crew of our films. While this information isn't within our primary dataset, I do possess a separate file containing comprehensive cast and crew credits for all the Movielens movies.\n",
        "\n",
        "**Let's dive into this credits data**"
      ]
    },
    {
      "cell_type": "code",
      "execution_count": null,
      "metadata": {
        "id": "-FJ0lIUi5Qjg"
      },
      "outputs": [],
      "source": [
        "credits_df = pd.read_csv('/content/drive/MyDrive/CAS DS Final Project - Movie Recommendation System - Avisek Regmi/credits.csv')\n",
        "credits_df.head()"
      ]
    },
    {
      "cell_type": "markdown",
      "metadata": {
        "collapsed": true,
        "id": "Y4M1QRRK5Qjg"
      },
      "source": [
        "#### Credits Dataset\n",
        "\n",
        "\n",
        "\n",
        "In the credits dataset, we have two main components: **cast** which includes cast names and their respective characters, and **crew** which contains crew names and their roles. Additionally, there's an **id** field representing the TMDB ID of the movie.\n",
        "\n"
      ]
    },
    {
      "cell_type": "markdown",
      "metadata": {
        "collapsed": true,
        "id": "EKlP1AiS5Qjg"
      },
      "source": [
        "**My task involves left joining this data with our original movies metadata dataframe based on the TMDB Movie ID. Before this join, I must ensure the ID column in our main dataframe is clean and of integer type. I will attempt an integer conversion and replace any problematic IDs with NaN, followed by dropping these rows from our dataframe.**"
      ]
    },
    {
      "cell_type": "code",
      "execution_count": null,
      "metadata": {
        "collapsed": true,
        "id": "9hx5LPiW5Qjh"
      },
      "outputs": [],
      "source": [
        "def convert_int(x):\n",
        "    try:\n",
        "        return int(x)\n",
        "    except:\n",
        "        return np.nan"
      ]
    },
    {
      "cell_type": "code",
      "execution_count": null,
      "metadata": {
        "collapsed": true,
        "id": "hOj6aL2p5Qjh"
      },
      "outputs": [],
      "source": [
        "df['id'] = df['id'].apply(convert_int)"
      ]
    },
    {
      "cell_type": "code",
      "execution_count": null,
      "metadata": {
        "id": "v60dkHXm5Qjh"
      },
      "outputs": [],
      "source": [
        "df[df['id'].isnull()]"
      ]
    },
    {
      "cell_type": "code",
      "execution_count": null,
      "metadata": {
        "collapsed": true,
        "id": "zkVYApve5Qjh"
      },
      "outputs": [],
      "source": [
        "df = df.drop([19730, 29503, 35587])"
      ]
    },
    {
      "cell_type": "code",
      "execution_count": null,
      "metadata": {
        "collapsed": true,
        "id": "i_LrNFm15Qjh"
      },
      "outputs": [],
      "source": [
        "df['id'] = df['id'].astype('int')"
      ]
    },
    {
      "cell_type": "code",
      "execution_count": null,
      "metadata": {
        "id": "VdkZ21eE5Qji"
      },
      "outputs": [],
      "source": [
        "df = df.merge(credits_df, on='id')\n",
        "df.shape"
      ]
    },
    {
      "cell_type": "code",
      "execution_count": null,
      "metadata": {
        "collapsed": true,
        "id": "TvUphEfa5Qji"
      },
      "outputs": [],
      "source": [
        "df['cast'] = df['cast'].apply(ast.literal_eval)\n",
        "df['crew'] = df['crew'].apply(ast.literal_eval)"
      ]
    },
    {
      "cell_type": "code",
      "execution_count": null,
      "metadata": {
        "collapsed": true,
        "id": "Z563vT2i5Qji"
      },
      "outputs": [],
      "source": [
        "df['cast_size'] = df['cast'].apply(lambda x: len(x))\n",
        "df['crew_size'] = df['crew'].apply(lambda x: len(x))"
      ]
    },
    {
      "cell_type": "code",
      "execution_count": null,
      "metadata": {
        "collapsed": true,
        "id": "gkyyW_S45Qji"
      },
      "outputs": [],
      "source": [
        "df['cast'] = df['cast'].apply(lambda x: [i['name'] for i in x] if isinstance(x, list) else [])"
      ]
    },
    {
      "cell_type": "code",
      "execution_count": null,
      "metadata": {
        "collapsed": true,
        "id": "U5Rbjx0M5Qji"
      },
      "outputs": [],
      "source": [
        "def get_director(x):\n",
        "    for i in x:\n",
        "        if i['job'] == 'Director':\n",
        "            return i['name']\n",
        "    return np.nan"
      ]
    },
    {
      "cell_type": "code",
      "execution_count": null,
      "metadata": {
        "collapsed": true,
        "id": "GlC7Sccl5Qji"
      },
      "outputs": [],
      "source": [
        "df['director'] = df['crew'].apply(get_director)"
      ]
    },
    {
      "cell_type": "code",
      "execution_count": null,
      "metadata": {
        "collapsed": true,
        "id": "063t_7m05Qjj"
      },
      "outputs": [],
      "source": [
        "s = df.apply(lambda x: pd.Series(x['cast']),axis=1).stack().reset_index(level=1, drop=True)\n",
        "s.name = 'actor'\n",
        "cast_df = df.drop('cast', axis=1).join(s)"
      ]
    },
    {
      "cell_type": "markdown",
      "metadata": {
        "id": "TSZD97Qd5Qjj"
      },
      "source": [
        "**Now, let's delve into the top-earning actors and directors in the film industry.**\n",
        "\n",
        "#### **Actors with the Highest Total Revenue**"
      ]
    },
    {
      "cell_type": "code",
      "source": [
        "sns.set_style('whitegrid')\n",
        "plt.title('Actors with the Highest Total Revenue')\n",
        "cast_df.groupby('actor')['revenue'].sum().sort_values(ascending=False).head(10).plot(kind='bar', color='red')\n",
        "plt.show()\n"
      ],
      "metadata": {
        "id": "J3Z96V9aT8Jw"
      },
      "execution_count": null,
      "outputs": []
    },
    {
      "cell_type": "markdown",
      "metadata": {
        "id": "MoseAgEK5Qjj"
      },
      "source": [
        "#### **Directors with the Highest Total Revenue**"
      ]
    },
    {
      "cell_type": "code",
      "source": [
        "plt.title('Directors with the Highest Total Revenue')\n",
        "df.groupby('director')['revenue'].sum().sort_values(ascending=False).head(10).plot(kind='bar', color='lightgreen')\n",
        "plt.show()\n"
      ],
      "metadata": {
        "id": "0VKPzM5SUa1-"
      },
      "execution_count": null,
      "outputs": []
    },
    {
      "cell_type": "markdown",
      "metadata": {
        "id": "XczNznW05Qjj"
      },
      "source": [
        "**I will only factor in actors and directors with a portfolio of at least five films each when assessing average revenues.**"
      ]
    },
    {
      "cell_type": "code",
      "execution_count": null,
      "metadata": {
        "collapsed": true,
        "id": "D-IHIxKA5Qjk"
      },
      "outputs": [],
      "source": [
        "actor_list = cast_df.groupby('actor')['revenue'].count().sort_values(ascending=False)\n",
        "actor_list = list(actor_list[actor_list >= 5].index)\n",
        "director_list = df.groupby('director')['revenue'].count().sort_values(ascending=False)\n",
        "director_list = list(director_list[director_list >= 5].index)"
      ]
    },
    {
      "cell_type": "markdown",
      "metadata": {
        "id": "w768QWfh5Qjk"
      },
      "source": [
        "#### **Actors with Highest Average Revenue**"
      ]
    },
    {
      "cell_type": "code",
      "source": [
        "plt.title(\"Actors with Highest Average Revenue\")\n",
        "cast_df[cast_df['actor'].isin(actor_list)].groupby('actor')['revenue'].mean().sort_values(ascending=False).head(10).plot(kind='bar', color='yellow')\n",
        "plt.show()\n"
      ],
      "metadata": {
        "id": "2ab3c2sCUoAI"
      },
      "execution_count": null,
      "outputs": []
    },
    {
      "cell_type": "markdown",
      "metadata": {
        "id": "6OUd-ETd5Qjk"
      },
      "source": [
        "#### **Directors with Highest Average Revenue**"
      ]
    },
    {
      "cell_type": "code",
      "source": [
        "plt.title(\"Directors with Highest Average Revenue\")\n",
        "df[df['director'].isin(director_list)].groupby('director')['revenue'].mean().sort_values(ascending=False).head(10).plot(kind='bar', color='lightblue')\n",
        "plt.show()\n"
      ],
      "metadata": {
        "id": "tY_MbRtZOfte"
      },
      "execution_count": null,
      "outputs": []
    },
    {
      "cell_type": "markdown",
      "metadata": {
        "id": "O-5AmCMu5Qjk"
      },
      "source": [
        "Who are the most reliable actors and directors? We'll gauge this by looking at the average earnings generated by their projects. Only movies grossing at least $10 million will be included, and we'll focus on individuals with a track record of at least five films each.\n",
        "\n",
        "\n",
        "#### **Most Successful Actors**"
      ]
    },
    {
      "cell_type": "code",
      "execution_count": null,
      "metadata": {
        "id": "bCQwuFt75Qjk"
      },
      "outputs": [],
      "source": [
        "success_df = cast_df[(cast_df['return'].notnull()) & (cast_df['revenue'] > 1e7) & (cast_df['actor'].isin(actor_list))]\n",
        "pd.DataFrame(success_df.groupby('actor')['return'].mean().sort_values(ascending=False).head(10))"
      ]
    },
    {
      "cell_type": "markdown",
      "metadata": {
        "id": "CD9YW13t5Qjl"
      },
      "source": [
        "#### **Most Successful Directors**"
      ]
    },
    {
      "cell_type": "code",
      "execution_count": null,
      "metadata": {
        "id": "AvaTvE9f5Qjl"
      },
      "outputs": [],
      "source": [
        "success_df = df[(df['return'].notnull()) & (df['revenue'] > 1e7) & (df['director'].isin(director_list))]\n",
        "pd.DataFrame(success_df.groupby('director')['return'].mean().sort_values(ascending=False).head(10))"
      ]
    },
    {
      "cell_type": "markdown",
      "metadata": {
        "id": "JZsCkBE05Qjl"
      },
      "source": [
        "**John G. Avildsen** stands out with an exceptionally high return. None of the other directors on the list come close to matching his level of success. Let's examine his filmography."
      ]
    },
    {
      "cell_type": "code",
      "execution_count": null,
      "metadata": {
        "id": "KzFQqZlZ5Qjl"
      },
      "outputs": [],
      "source": [
        "df[(df['director'] == 'John G. Avildsen') & (df['return'].notnull())][['title', 'budget', 'revenue', 'return', 'year']]"
      ]
    },
    {
      "cell_type": "markdown",
      "metadata": {
        "id": "qaPe12UW5Qjl"
      },
      "source": [
        "**The Karate Kid, Part II** reportedly had a budget of only USD 113, which appears to be an anomaly considering its official cost of **USD 13 million**. Despite directing remarkable films, this discrepancy disqualifies Avildsen from inclusion in our list.\n",
        "\n",
        "**With that, I will conclude my Exploratory Data Analysis. Let's leverage the insights gained to develop valuable predictive models.**"
      ]
    },
    {
      "cell_type": "markdown",
      "metadata": {
        "id": "LbF2Vpp75Qjl"
      },
      "source": [
        "## **Regression: Predicting Movie Revenues**"
      ]
    },
    {
      "cell_type": "markdown",
      "metadata": {
        "id": "Ul4S_vaY5Qjm"
      },
      "source": [
        "In this section, I will build a **regression model** to forecast movie revenues. **Recognizing it's not my primary focus, I won't delve deeply into feature engineering or hyperparameter tuning.**\n",
        "\n",
        "Predicting movie revenues is a well-explored area in Machine Learning, with extensive literature available. Many models leverage potent features like Facebook Page Likes, Twitter activity, YouTube Trailer metrics, and various rating systems. Since we lack these, we'll use TMDB's **Popularity Score** and **Vote Average** as proxies for popularity. However, it's crucial to note that these metrics won't be available for unreleased movies in real-world scenarios.\n"
      ]
    },
    {
      "cell_type": "code",
      "execution_count": null,
      "metadata": {
        "id": "h1wqmN245Qjm"
      },
      "outputs": [],
      "source": [
        "rgf = df[df['return'].notnull()]\n",
        "rgf.shape"
      ]
    },
    {
      "cell_type": "markdown",
      "metadata": {
        "id": "wsIlnmHY5Qjm"
      },
      "source": [
        "My training set comprises of **5393 records**.\n",
        "\n",
        "**Let's review our features and eliminate any unnecessary ones.**"
      ]
    },
    {
      "cell_type": "code",
      "execution_count": null,
      "metadata": {
        "id": "mHBAf4bS5Qjm"
      },
      "outputs": [],
      "source": [
        "rgf.columns"
      ]
    },
    {
      "cell_type": "code",
      "execution_count": null,
      "metadata": {
        "collapsed": true,
        "id": "mbM7FSwG5Qjm"
      },
      "outputs": [],
      "source": [
        "rgf = rgf.drop(['id', 'overview', 'poster_path', 'release_date', 'status', 'tagline', 'video', 'return', 'crew'], axis=1)"
      ]
    },
    {
      "cell_type": "markdown",
      "metadata": {
        "id": "YoPBoagK5Qjn"
      },
      "source": [
        "We will perform the following feature engineering tasks:\n",
        "\n",
        "1. **belongs_to_collection** will be turned into a Boolean variable. 1 indicates a movie is a part of collection whereas 0 indicates it is not.\n",
        "2. **genres** will be converted into number of genres.\n",
        "3. **homepage** will be converted into a Boolean variable that will indicate if a movie has a homepage or not.\n",
        "4. **original_language** will be replaced by a feature called **is_foreign** to denote if a particular film is in English or a Foreign Language.\n",
        "5. **production_companies** will be replaced with just the number of production companies collaborating to make the movie.\n",
        "6. **production_countries** will be replaced with the number of countries the film was shot in.\n",
        "7. **day** will be converted into a binary feature to indicate if the film was released on a Friday.\n",
        "8. **month** will be converted into a variable that indicates if the month was a holiday season."
      ]
    },
    {
      "cell_type": "code",
      "execution_count": null,
      "metadata": {
        "collapsed": true,
        "id": "1fX7lFqs5Qjn"
      },
      "outputs": [],
      "source": [
        "s = rgf.apply(lambda x: pd.Series(x['genres']),axis=1).stack().reset_index(level=1, drop=True)\n",
        "s.name = 'genre'\n",
        "gen_rgf = rgf.drop('genres', axis=1).join(s)\n",
        "genres_train = gen_rgf['genre'].drop_duplicates()"
      ]
    },
    {
      "cell_type": "code",
      "execution_count": null,
      "metadata": {
        "collapsed": true,
        "id": "QKR-v0IU5Qjn"
      },
      "outputs": [],
      "source": [
        "def feature_engineering(df):\n",
        "    df['belongs_to_collection'] = df['belongs_to_collection'].apply(lambda x: 0 if x == np.nan else 1)\n",
        "    for genre in genres_train:\n",
        "        df['is_' + str(genre)] = df['genres'].apply(lambda x: 1 if genre in x else 0)\n",
        "    df['genres'] = df['genres'].apply(lambda x: len(x))\n",
        "    df['homepage'] = df['homepage'].apply(lambda x: 0 if x == np.nan else 1)\n",
        "    df['is_english'] = df['original_language'].apply(lambda x: 1 if x=='en' else 0)\n",
        "    df = df.drop('original_language', axis=1)\n",
        "    df['production_companies'] = df['production_companies'].apply(lambda x: len(x))\n",
        "    df['production_countries'] = df['production_countries'].apply(lambda x: len(x))\n",
        "    df['is_Friday'] = df['day'].apply(lambda x: 1 if x=='Fri' else 0)\n",
        "    df = df.drop('day', axis=1)\n",
        "    df['is_Holiday'] = df['month'].apply(lambda x: 1 if x in ['Apr', 'May', 'Jun', 'Nov'] else 0)\n",
        "    df = df.drop('month', axis=1)\n",
        "    df = df.drop(['title', 'cast', 'director'], axis=1)\n",
        "    df = pd.get_dummies(df, prefix='is')\n",
        "    df['runtime'] = df['runtime'].fillna(df['runtime'].mean())\n",
        "    df['vote_average'] = df['vote_average'].fillna(df['vote_average'].mean())\n",
        "    return df"
      ]
    },
    {
      "cell_type": "code",
      "execution_count": null,
      "metadata": {
        "collapsed": true,
        "id": "UUB5D-If5Qjn"
      },
      "outputs": [],
      "source": [
        "X, y = rgf.drop('revenue', axis=1), rgf['revenue']"
      ]
    },
    {
      "cell_type": "code",
      "execution_count": null,
      "metadata": {
        "collapsed": true,
        "id": "QNVVX_f55Qjn"
      },
      "outputs": [],
      "source": [
        "X = feature_engineering(X)"
      ]
    },
    {
      "cell_type": "code",
      "execution_count": null,
      "metadata": {
        "collapsed": true,
        "id": "3U0FugNS5Qjn"
      },
      "outputs": [],
      "source": [
        "train_X, test_X, train_y, test_y = train_test_split(X, y, train_size=0.75, test_size=0.25)"
      ]
    },
    {
      "cell_type": "code",
      "execution_count": null,
      "metadata": {
        "id": "kSaL5P_B5Qjo"
      },
      "outputs": [],
      "source": [
        "X.shape"
      ]
    },
    {
      "cell_type": "code",
      "execution_count": null,
      "metadata": {
        "id": "78fDt6UV5Qjo"
      },
      "outputs": [],
      "source": [
        "reg = GradientBoostingRegressor()\n",
        "reg.fit(train_X, train_y)\n",
        "reg.score(test_X, test_y)"
      ]
    },
    {
      "cell_type": "markdown",
      "metadata": {
        "id": "F0cyMDfd5Qjo"
      },
      "source": [
        "Our model achieves a coefficient of determination of **0.77**, indicating a strong performance for our basic model. Now, let's compare its score to that of a Dummy Regressor."
      ]
    },
    {
      "cell_type": "code",
      "execution_count": null,
      "metadata": {
        "id": "a4fmAqRw5Qjo"
      },
      "outputs": [],
      "source": [
        "dummy = DummyRegressor()\n",
        "dummy.fit(train_X, train_y)\n",
        "dummy.score(test_X, test_y)"
      ]
    },
    {
      "cell_type": "markdown",
      "metadata": {
        "id": "xsie3Q3-5Qjp"
      },
      "source": [
        "\n",
        "**My model significantly outperforms the Dummy Regressor.**\n",
        "\n",
        "**Now, let's visualize feature importances with a bar plot to identify the most influential features in our predictions.**"
      ]
    },
    {
      "cell_type": "code",
      "source": [
        "# Assuming reg.feature_importances_ and X.columns are defined\n",
        "\n",
        "sns.set_style('whitegrid')\n",
        "plt.figure(figsize=(10, 12))\n",
        "\n",
        "# Define a list of colors, one for each bar\n",
        "colors = ['skyblue', 'lightgreen', 'salmon', 'gold', 'orchid', 'cornflowerblue', 'lightcoral', 'limegreen', 'dodgerblue', 'hotpink']\n",
        "\n",
        "# Plot the bar plot with the specified colors\n",
        "sns.barplot(x=reg.feature_importances_, y=X.columns, palette=colors)\n",
        "plt.show()\n",
        "\n"
      ],
      "metadata": {
        "id": "JKpN56kTUHJz"
      },
      "execution_count": null,
      "outputs": []
    },
    {
      "cell_type": "markdown",
      "metadata": {
        "id": "YrkLvRLv5Qjq"
      },
      "source": [
        "The most influential feature in our Gradient Boosting Model turns out to be **vote_count**, affirming the significance of popularity metrics in revenue prediction. Budget follows as the second most important, succeeded by **Popularity** (an explicit popularity metric) and **Crew Size.****\n",
        "\n"
      ]
    },
    {
      "cell_type": "markdown",
      "metadata": {
        "collapsed": true,
        "id": "HWe3EG195Qjq"
      },
      "source": [
        "## **Classification: Predicting Movie Success**\n",
        "\n",
        "What determines whether a movie will recoup its investment? To answer this, I will build a binary classifier to predict a movie's profitability. Like our regression model, this classifier will use some idealized features due to the lack of real-world popularity metrics.\n",
        "\n",
        "While  I have extensively analyzed our data,  I haven't yet pinpointed the factors that drive a movie's success. In this section, I will identify these factors and then construct our model."
      ]
    },
    {
      "cell_type": "code",
      "execution_count": null,
      "metadata": {
        "id": "3YIGEnkf5Qjr"
      },
      "outputs": [],
      "source": [
        "cls = df[df['return'].notnull()]\n",
        "cls.shape"
      ]
    },
    {
      "cell_type": "code",
      "execution_count": null,
      "metadata": {
        "id": "S482tj-J5Qjr"
      },
      "outputs": [],
      "source": [
        "cls.columns"
      ]
    },
    {
      "cell_type": "code",
      "execution_count": null,
      "metadata": {
        "collapsed": true,
        "id": "eyIi2mzg5Qjr"
      },
      "outputs": [],
      "source": [
        "cls = cls.drop(['id', 'overview', 'poster_path', 'release_date', 'status', 'tagline', 'revenue'], axis=1)"
      ]
    },
    {
      "cell_type": "markdown",
      "metadata": {
        "id": "eg19kYYz5Qjs"
      },
      "source": [
        "Let's convert our **return** feature into a binary variable: **0** for a flop and **1** for a hit."
      ]
    },
    {
      "cell_type": "code",
      "execution_count": null,
      "metadata": {
        "collapsed": true,
        "id": "_Ibjqcwz5Qjs"
      },
      "outputs": [],
      "source": [
        "cls['return'] = cls['return'].apply(lambda x: 1 if x >=1 else 0)"
      ]
    },
    {
      "cell_type": "code",
      "execution_count": null,
      "metadata": {
        "id": "uA1pVRR15Qjs"
      },
      "outputs": [],
      "source": [
        "cls['return'].value_counts()"
      ]
    },
    {
      "cell_type": "markdown",
      "metadata": {
        "id": "MMBva-WB5Qjs"
      },
      "source": [
        "Our classes are fairly balanced, so no additional methods are needed to address class imbalance. Now, let's focus on our features."
      ]
    },
    {
      "cell_type": "code",
      "execution_count": null,
      "metadata": {
        "collapsed": true,
        "id": "IcY1gsJa5Qjs"
      },
      "outputs": [],
      "source": [
        "cls['belongs_to_collection'] = cls['belongs_to_collection'].fillna('').apply(lambda x: 0 if x == '' else 1)"
      ]
    },
    {
      "cell_type": "code",
      "source": [
        "sns.set(style=\"whitegrid\")\n",
        "g = sns.PairGrid(data=cls, x_vars=['belongs_to_collection'], y_vars='return', height=5)\n",
        "g.map(sns.pointplot, color=sns.xkcd_rgb[\"plum\"])\n",
        "g.set(ylim=(0, 1))\n"
      ],
      "metadata": {
        "id": "0YZU3tePWTxh"
      },
      "execution_count": null,
      "outputs": []
    },
    {
      "cell_type": "markdown",
      "metadata": {
        "id": "mY0sxE7M5Qjt"
      },
      "source": [
        "Movies that are part of a franchise tend to have a higher chance of success."
      ]
    },
    {
      "cell_type": "code",
      "source": [
        "cls['popularity'] = cls['popularity'].fillna('').apply(lambda x: 0 if x == '' else 1)"
      ],
      "metadata": {
        "id": "S3GQ3SDRdGlt"
      },
      "execution_count": null,
      "outputs": []
    },
    {
      "cell_type": "code",
      "source": [
        "sns.set(style=\"whitegrid\")\n",
        "g = sns.PairGrid(data=cls, x_vars=['popularity'], y_vars='return', height=5)\n",
        "g.map(sns.pointplot, color=sns.xkcd_rgb[\"plum\"])\n",
        "g.set(ylim=(0, 1))"
      ],
      "metadata": {
        "id": "lbiw0ah4bLuN"
      },
      "execution_count": null,
      "outputs": []
    },
    {
      "cell_type": "markdown",
      "metadata": {
        "id": "FWfMRfg95Qjt"
      },
      "source": [
        "The probability difference with popularity isn't significant. To avoid the curse of dimensionality, I will eliminate this feature since it's not particularly useful."
      ]
    },
    {
      "cell_type": "code",
      "execution_count": null,
      "metadata": {
        "collapsed": true,
        "id": "WKE_LhrG5Qjt"
      },
      "outputs": [],
      "source": [
        "s = cls.apply(lambda x: pd.Series(x['genres']),axis=1).stack().reset_index(level=1, drop=True)\n",
        "s.name = 'genre'\n",
        "gen_cls = cls.drop('genres', axis=1).join(s)"
      ]
    },
    {
      "cell_type": "code",
      "execution_count": null,
      "metadata": {
        "id": "i3wCZYmH5Qjt"
      },
      "outputs": [],
      "source": [
        "ctab = pd.crosstab([gen_cls['genre']], gen_cls['return'], dropna=False).apply(lambda x: x/x.sum(), axis=1)\n",
        "ctab.plot(kind='bar', stacked=True, legend=False)"
      ]
    },
    {
      "cell_type": "markdown",
      "metadata": {
        "id": "43Oe3IiA5Qju"
      },
      "source": [
        "**TV movies** show a 0% failure rate, likely due to their small sample size. **Foreign films**, however, have a higher than average failure rate. Since no genre shows a drastic pattern, we'll proceed with one-hot encoding for all genres."
      ]
    },
    {
      "cell_type": "code",
      "execution_count": null,
      "metadata": {
        "id": "z099iWhU5Qju"
      },
      "outputs": [],
      "source": [
        "cls.columns"
      ]
    },
    {
      "cell_type": "code",
      "execution_count": null,
      "metadata": {
        "collapsed": true,
        "id": "VZSC9Ytn5Qju"
      },
      "outputs": [],
      "source": [
        "def classification_engineering(df):\n",
        "    for genre in genres_train:\n",
        "        df['is_' + str(genre)] = df['genres'].apply(lambda x: 1 if genre in x else 0)\n",
        "    df['genres'] = df['genres'].apply(lambda x: len(x))\n",
        "    df = df.drop('homepage', axis=1)\n",
        "    df['is_english'] = df['original_language'].apply(lambda x: 1 if x=='en' else 0)\n",
        "    df = df.drop('original_language', axis=1)\n",
        "    df['production_companies'] = df['production_companies'].apply(lambda x: len(x))\n",
        "    df['production_countries'] = df['production_countries'].apply(lambda x: len(x))\n",
        "    df['is_Friday'] = df['day'].apply(lambda x: 1 if x=='Fri' else 0)\n",
        "    df = df.drop('day', axis=1)\n",
        "    df['is_Holiday'] = df['month'].apply(lambda x: 1 if x in ['Apr', 'May', 'Jun', 'Nov'] else 0)\n",
        "    df = df.drop('month', axis=1)\n",
        "    df = df.drop(['title', 'cast', 'director'], axis=1)\n",
        "    #df = pd.get_dummies(df, prefix='is')\n",
        "    df['runtime'] = df['runtime'].fillna(df['runtime'].mean())\n",
        "    df['vote_average'] = df['vote_average'].fillna(df['vote_average'].mean())\n",
        "    df = df.drop('crew', axis=1)\n",
        "    return df\n"
      ]
    },
    {
      "cell_type": "code",
      "execution_count": null,
      "metadata": {
        "collapsed": true,
        "id": "fVh0l7nx5Qju"
      },
      "outputs": [],
      "source": [
        "cls = classification_engineering(cls)"
      ]
    },
    {
      "cell_type": "code",
      "execution_count": null,
      "metadata": {
        "id": "_DvU9XIo5Qju"
      },
      "outputs": [],
      "source": [
        "cls.columns"
      ]
    },
    {
      "cell_type": "code",
      "execution_count": null,
      "metadata": {
        "collapsed": true,
        "id": "QyH6aEYi5Qjv"
      },
      "outputs": [],
      "source": [
        "X, y = cls.drop('return', axis=1), cls['return']"
      ]
    },
    {
      "cell_type": "code",
      "execution_count": null,
      "metadata": {
        "collapsed": true,
        "id": "gbEoTa955Qjv"
      },
      "outputs": [],
      "source": [
        "train_X, test_X, train_y, test_y = train_test_split(X, y, train_size=0.75, test_size=0.25, stratify=y)"
      ]
    },
    {
      "cell_type": "code",
      "execution_count": null,
      "metadata": {
        "id": "TQH0nf-X5Qjv"
      },
      "outputs": [],
      "source": [
        "clf = GradientBoostingClassifier()\n",
        "clf.fit(train_X, train_y)\n",
        "clf.score(test_X, test_y)"
      ]
    },
    {
      "cell_type": "markdown",
      "metadata": {
        "id": "A2Q3laob5Qjv"
      },
      "source": [
        "My basic **Gradient Boosting Classifier** achieves **80%** accuracy. Although hyperparameter tuning and advanced feature engineering could improve the model,\n",
        "I will skip these steps as they aren't the primary focus of this project."
      ]
    },
    {
      "cell_type": "code",
      "execution_count": null,
      "metadata": {
        "id": "g6jFyt_x5Qjv"
      },
      "outputs": [],
      "source": [
        "dummy = DummyClassifier(strategy='most_frequent')\n",
        "dummy.fit(train_X, train_y)\n",
        "dummy.score(test_X, test_y)"
      ]
    },
    {
      "cell_type": "code",
      "source": [
        "\n",
        "import seaborn as sns\n",
        "import matplotlib.pyplot as plt\n",
        "\n",
        "plt.figure(figsize=(10, 12))\n",
        "\n",
        "# Define a color palette with different colors\n",
        "colors = sns.color_palette(\"husl\", len(X.columns))\n",
        "\n",
        "# Plot the bar plot with the specified palette\n",
        "sns.barplot(x=clf.feature_importances_, y=X.columns, palette=colors)\n",
        "\n",
        "plt.show()\n"
      ],
      "metadata": {
        "id": "IOgd9Bi0a9YF"
      },
      "execution_count": null,
      "outputs": []
    },
    {
      "cell_type": "markdown",
      "metadata": {
        "id": "N9jb3oFJ5Qjv"
      },
      "source": [
        "\n",
        "**Vote Count** is our classifier's most significant feature, followed by **Budget**, **Popularity**, and **Year**. This concludes our discussion on the classification model.\n",
        "\n",
        "Next, I will build a **Hybrid Recommendation System** combining popularity, content, and collaborative filtering, using both the MovieLens dataset and the TMDB Movies Metadata."
      ]
    }
  ],
  "metadata": {
    "kernelspec": {
      "display_name": "Python 3",
      "language": "python",
      "name": "python3"
    },
    "language_info": {
      "codemirror_mode": {
        "name": "ipython",
        "version": 3
      },
      "file_extension": ".py",
      "mimetype": "text/x-python",
      "name": "python",
      "nbconvert_exporter": "python",
      "pygments_lexer": "ipython3",
      "version": "3.6.0"
    },
    "colab": {
      "provenance": []
    }
  },
  "nbformat": 4,
  "nbformat_minor": 0
}